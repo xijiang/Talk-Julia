{
 "cells": [
  {
   "attachments": {},
   "cell_type": "markdown",
   "metadata": {
    "vscode": {
     "languageId": "julia"
    }
   },
   "source": [
    "# Creating data frame objects\n",
    "\n",
    "## Objectives\n",
    "\n",
    "- Creating data frames\n",
    "- Using RCall.jl to integrate with R\n",
    "- Understanding the Table.jl interface\n",
    "- Plotting a correlation matrix\n",
    "- Constructing a data frame interactively by adding rows to it\n",
    "- Serialize Julia objects"
   ]
  },
  {
   "attachments": {},
   "cell_type": "markdown",
   "metadata": {},
   "source": [
    "## Recap\n",
    "\n",
    "```julia\n",
    "using DataFrames, Downloads, CodecZstd, CSV\n",
    "file = \"new_puzzles.csv.zst\"\n",
    "url = \"https://database.lichess.org/lichess_db_puzzle.csv.zst\"\n",
    "if isfile(file)\n",
    "    @info \"File already downloaded\"\n",
    "else\n",
    "    @info \"Downloading file\"\n",
    "    Downloads.download(url, file)\n",
    "end\n",
    "compressed = read(file)\n",
    "plain = transcode(ZstdDecompressor, compressed)\n",
    "puzzles = CSV.read(plain, delim=\",\", maxwarnings=0, DataFrame,\n",
    "                   header=[\"PuzzleId\", \"FEN\", \"Moves\", \"Rating\",\n",
    "                           \"RatingDeviation\", \"Popularity\", \"NbPlays\", \"Themes\",\n",
    "                           \"GameUrl\", \"OpeningTags\"]);\n",
    "compressed = plain = nothing\n",
    "\n",
    "using Plots\n",
    "plot([histogram(puzzles[!, col]; label=col) for col in [\"Rating\", \"RatingDeviation\", \"Popularity\", \"NbPlays\"]]..., layout=(2, 2))\n",
    "\n",
    "# data cleaning\n",
    "using Statistics\n",
    "# puzzles played enough times\n",
    "f1 = puzzles.NbPlays .> median(puzzles.NbPlays)\n",
    "# rating not extreme\n",
    "f2 = median(puzzles.Rating) .< puzzles.Rating .< quantile(puzzles.Rating, 0.99)\n",
    "qc = f1 .&& f2\n",
    "dat = puzzles[qc, [:Rating, :Popularity]]\n",
    "\n",
    "plot([histogram(dat[!, col]; label=col) for col in [\"Rating\", \"Popularity\"]]..., layout=(2, 1))\n",
    "describe(dat)"
   ]
  }
 ],
 "metadata": {
  "kernelspec": {
   "display_name": "Julia 1.9.0",
   "language": "julia",
   "name": "julia-1.9"
  },
  "language_info": {
   "file_extension": ".jl",
   "mimetype": "application/julia",
   "name": "julia",
   "version": "1.9.0"
  },
  "orig_nbformat": 4
 },
 "nbformat": 4,
 "nbformat_minor": 2
}
