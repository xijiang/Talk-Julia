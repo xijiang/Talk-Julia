{
 "cells": [
  {
   "attachments": {},
   "cell_type": "markdown",
   "metadata": {},
   "source": [
    "# Julia's support for scaling projects\n",
    "- Using Julia's type system\n",
    "- Defining multiple methods for a function\n",
    "- Working with modules and packages\n",
    "- Using macros"
   ]
  },
  {
   "attachments": {},
   "cell_type": "markdown",
   "metadata": {},
   "source": [
    "Sooner or later you codes base "
   ]
  },
  {
   "attachments": {},
   "cell_type": "markdown",
   "metadata": {},
   "source": [
    "## Understanding Julia's type system\n",
    "\n",
    "- Restricting the types of arguments to a function speeds up the code\n",
    "- It helps debugging"
   ]
  },
  {
   "cell_type": "code",
   "execution_count": 15,
   "metadata": {},
   "outputs": [
    {
     "data": {
      "text/html": [
       "# 4 methods for generic function <b>cd</b>:<ul><li> cd() in Base.Filesystem at <a href=\"https://github.com/JuliaLang/julia/tree/17cfb8e65ead377bf1b4598d8a9869144142c84e/base/file.jl#L94\" target=\"_blank\">file.jl:94</a></li> <li> cd(dir::<b>AbstractString</b>) in Base.Filesystem at <a href=\"https://github.com/JuliaLang/julia/tree/17cfb8e65ead377bf1b4598d8a9869144142c84e/base/file.jl#L89\" target=\"_blank\">file.jl:89</a></li> <li> cd(f::<b>Function</b>) in Base.Filesystem at <a href=\"https://github.com/JuliaLang/julia/tree/17cfb8e65ead377bf1b4598d8a9869144142c84e/base/file.jl#L147\" target=\"_blank\">file.jl:147</a></li> <li> cd(f::<b>Function</b>, dir::<b>AbstractString</b>) in Base.Filesystem at <a href=\"https://github.com/JuliaLang/julia/tree/17cfb8e65ead377bf1b4598d8a9869144142c84e/base/file.jl#L107\" target=\"_blank\">file.jl:107</a></li> </ul>"
      ],
      "text/plain": [
       "# 4 methods for generic function \"cd\":\n",
       "[1] cd() in Base.Filesystem at file.jl:94\n",
       "[2] cd(dir::AbstractString) in Base.Filesystem at file.jl:89\n",
       "[3] cd(f::Function) in Base.Filesystem at file.jl:147\n",
       "[4] cd(f::Function, dir::AbstractString) in Base.Filesystem at file.jl:107"
      ]
     },
     "metadata": {},
     "output_type": "display_data"
    }
   ],
   "source": [
    "# One function multiple methods\n",
    "methods(cd)"
   ]
  },
  {
   "cell_type": "code",
   "execution_count": 5,
   "metadata": {},
   "outputs": [
    {
     "data": {
      "text/html": [
       "# 2 methods for generic function <b>deal</b>:<ul><li> deal(a::<b>Int64</b>, b::<b>Int64</b>) in Main at <a href=\"https://github.com/xijiang/Talk-Julia/tree/12ba39c677d63fa0a4acb1508ef653cc2af4f422//julia/04-support-for-scaling-projects.ipynb#L1\" target=\"_blank\">/mnt/w/1t-nvme/projects/Talk-Julia/julia/04-support-for-scaling-projects.ipynb:1</a></li> <li> deal(a::<b>Float64</b>, b::<b>Float64</b>) in Main at <a href=\"https://github.com/xijiang/Talk-Julia/tree/12ba39c677d63fa0a4acb1508ef653cc2af4f422//julia/04-support-for-scaling-projects.ipynb#L2\" target=\"_blank\">/mnt/w/1t-nvme/projects/Talk-Julia/julia/04-support-for-scaling-projects.ipynb:2</a></li> </ul>"
      ],
      "text/plain": [
       "# 2 methods for generic function \"deal\":\n",
       "[1] deal(a::Int64, b::Int64) in Main at /mnt/w/1t-nvme/projects/Talk-Julia/julia/04-support-for-scaling-projects.ipynb:1\n",
       "[2] deal(a::Float64, b::Float64) in Main at /mnt/w/1t-nvme/projects/Talk-Julia/julia/04-support-for-scaling-projects.ipynb:2"
      ]
     },
     "metadata": {},
     "output_type": "display_data"
    }
   ],
   "source": [
    "deal(a::Int, b::Int) = a + b\n",
    "deal(a::Float64, b::Float64) = a * b\n",
    "methods(deal)"
   ]
  },
  {
   "cell_type": "code",
   "execution_count": 4,
   "metadata": {},
   "outputs": [
    {
     "name": "stdout",
     "output_type": "stream",
     "text": [
      "deal(1, 2) = 3\n",
      "deal(1.0, 2.0) = 2.0\n"
     ]
    },
    {
     "data": {
      "text/plain": [
       "2.0"
      ]
     },
     "metadata": {},
     "output_type": "display_data"
    }
   ],
   "source": [
    "@show deal(1, 2)\n",
    "@show deal(1.0, 2.0);\n",
    "#error → @show deal(1, 2.0)"
   ]
  },
  {
   "cell_type": "code",
   "execution_count": 6,
   "metadata": {},
   "outputs": [
    {
     "name": "stdout",
     "output_type": "stream",
     "text": [
      "\u001b[90m;  @ /mnt/w/1t-nvme/projects/Talk-Julia/julia/04-support-for-scaling-projects.ipynb:1 within `deal`\u001b[39m\n",
      "\u001b[95mdefine\u001b[39m \u001b[36mi64\u001b[39m \u001b[93m@julia_deal_2265\u001b[39m\u001b[33m(\u001b[39m\u001b[36mi64\u001b[39m \u001b[95msignext\u001b[39m \u001b[0m%0"
     ]
    },
    {
     "name": "stdout",
     "output_type": "stream",
     "text": [
      "\u001b[0m, \u001b[36mi64\u001b[39m \u001b[95msignext\u001b[39m \u001b[0m%1\u001b[33m)\u001b[39m \u001b[0m#0 \u001b[33m{\u001b[39m\n",
      "\u001b[91mtop:\u001b[39m\n",
      "\u001b[90m; ┌ @ int.jl:87 within `+`\u001b[39m\n",
      "   \u001b[0m%2 \u001b[0m= \u001b[96m\u001b[1madd\u001b[22m\u001b[39m \u001b[36mi64\u001b[39m \u001b[0m%1\u001b[0m, \u001b[0m%0\n",
      "\u001b[90m; └\u001b[39m\n",
      "  \u001b[96m\u001b[1mret\u001b[22m\u001b[39m \u001b[36mi64\u001b[39m \u001b[0m%2\n",
      "\u001b[33m}\u001b[39m\n",
      "\u001b[90m;  @ /mnt/w/1t-nvme/projects/Talk-Julia/julia/04-support-for-scaling-projects.ipynb:2 within `deal`\u001b[39m\n",
      "\u001b[95mdefine\u001b[39m \u001b[36mdouble\u001b[39m \u001b[93m@julia_deal_2286\u001b[39m\u001b[33m(\u001b[39m\u001b[36mdouble\u001b[39m \u001b[0m%0\u001b[0m, \u001b[36mdouble\u001b[39m \u001b[0m%1\u001b[33m)\u001b[39m \u001b[0m#0 \u001b[33m{\u001b[39m\n",
      "\u001b[91mtop:\u001b[39m\n",
      "\u001b[90m; ┌ @ float.jl:385 within `*`\u001b[39m\n",
      "   \u001b[0m%2 \u001b[0m= \u001b[96m\u001b[1mfmul\u001b[22m\u001b[39m \u001b[36mdouble\u001b[39m \u001b[0m%0\u001b[0m, \u001b[0m%1\n",
      "\u001b[90m; └\u001b[39m\n",
      "  \u001b[96m\u001b[1mret\u001b[22m\u001b[39m \u001b[36mdouble\u001b[39m \u001b[0m%2\n",
      "\u001b[33m}\u001b[39m\n"
     ]
    }
   ],
   "source": [
    "@code_llvm deal(1, 2)\n",
    "@code_llvm deal(1.0, 2.0)"
   ]
  },
  {
   "cell_type": "code",
   "execution_count": 8,
   "metadata": {},
   "outputs": [
    {
     "data": {
      "text/plain": [
       "Function"
      ]
     },
     "metadata": {},
     "output_type": "display_data"
    }
   ],
   "source": [
    "supertype(typeof(deal))"
   ]
  },
  {
   "attachments": {},
   "cell_type": "markdown",
   "metadata": {},
   "source": [
    "- Julia types are organized in a hierarchy tree\n",
    "- Any is the root of the tree\n",
    "\n",
    "```julia\n",
    "subtypes(Function); # → ~13402 function instances\n",
    "subtypes(Any);      # → ~646 elements\n",
    "supertype(Any);     # → Any\n",
    "supertypes(Any);    # → (Any,)\n",
    "typeof(deal);       # → singleton type of function deal, subtype of Function\n",
    "```\n",
    "\n",
    "- Concrete types are the leaves of the tree, which can be instantiated\n",
    "- Abstract types are the nodes of the tree, which only serve as intermediate types allowing to group other types"
   ]
  },
  {
   "cell_type": "code",
   "execution_count": 11,
   "metadata": {},
   "outputs": [
    {
     "data": {
      "text/plain": [
       "print_supertypes (generic function with 1 method)"
      ]
     },
     "metadata": {},
     "output_type": "display_data"
    }
   ],
   "source": [
    "# Find all supertypes\n",
    "function print_supertypes(T)\n",
    "    println(T)\n",
    "    T == Any || print_supertypes(supertype(T))\n",
    "    return nothing\n",
    "end"
   ]
  },
  {
   "cell_type": "code",
   "execution_count": 12,
   "metadata": {},
   "outputs": [
    {
     "name": "stdout",
     "output_type": "stream",
     "text": [
      "Int64\n",
      "Signed\n",
      "Integer\n",
      "Real\n",
      "Number\n",
      "Any\n"
     ]
    }
   ],
   "source": [
    "print_supertypes(Int64)"
   ]
  },
  {
   "cell_type": "code",
   "execution_count": 13,
   "metadata": {},
   "outputs": [
    {
     "data": {
      "text/plain": [
       "print_subtypes (generic function with 2 methods)"
      ]
     },
     "metadata": {},
     "output_type": "display_data"
    }
   ],
   "source": [
    "# Find all subtypes\n",
    "function print_subtypes(T, indent_level = 0)\n",
    "    println(\" \" ^ indent_level, T)\n",
    "    for S in subtypes(T)\n",
    "        print_subtypes(S, indent_level + 2)\n",
    "    end\n",
    "    return nothing\n",
    "end"
   ]
  },
  {
   "cell_type": "code",
   "execution_count": 14,
   "metadata": {},
   "outputs": [
    {
     "name": "stdout",
     "output_type": "stream",
     "text": [
      "Integer\n"
     ]
    },
    {
     "name": "stdout",
     "output_type": "stream",
     "text": [
      "  Bool\n",
      "  Signed\n",
      "    BigInt\n",
      "    Int128\n",
      "    Int16\n",
      "    Int32\n",
      "    Int64\n",
      "    Int8\n",
      "  Unsigned\n",
      "    UInt128\n",
      "    UInt16\n",
      "    UInt32\n",
      "    UInt64\n",
      "    UInt8\n"
     ]
    }
   ],
   "source": [
    "print_subtypes(Integer)"
   ]
  },
  {
   "cell_type": "code",
   "execution_count": 16,
   "metadata": {},
   "outputs": [
    {
     "data": {
      "text/plain": [
       "Union{Missing, String}"
      ]
     },
     "metadata": {},
     "output_type": "display_data"
    }
   ],
   "source": [
    "# Use `Union` to specify multiple types with no respective node\n",
    "Union{Int64, Float64}\n",
    "Union{String, Missing}"
   ]
  },
  {
   "cell_type": "code",
   "execution_count": 18,
   "metadata": {},
   "outputs": [
    {
     "name": "stdout",
     "output_type": "stream",
     "text": [
      "Vector{Float64}\n",
      "DenseVector{Float64}\n",
      "AbstractVector{Float64}\n",
      "Any\n",
      "\n",
      "UnitRange{Int64}\n",
      "AbstractUnitRange{Int64}\n",
      "OrdinalRange{Int64, Int64}\n",
      "AbstractRange{Int64}\n",
      "AbstractVector{Int64}\n",
      "Any\n"
     ]
    }
   ],
   "source": [
    "# Decide what types to use to restrict the input\n",
    "print_supertypes(typeof([1.0, 2.0, 3.0]))\n",
    "println()\n",
    "print_supertypes(typeof(1:3))"
   ]
  },
  {
   "cell_type": "code",
   "execution_count": 19,
   "metadata": {},
   "outputs": [
    {
     "data": {
      "text/plain": [
       "AbstractVector\u001b[90m (alias for \u001b[39m\u001b[90mAbstractArray{T, 1} where T\u001b[39m\u001b[90m)\u001b[39m"
      ]
     },
     "metadata": {},
     "output_type": "display_data"
    }
   ],
   "source": [
    "# we can see above two types seem to join at `AbstractArray`\n",
    "typejoin(typeof([1.0, 2.0, 3.0]), typeof(1:3)) # built-in function"
   ]
  },
  {
   "attachments": {},
   "cell_type": "markdown",
   "metadata": {},
   "source": [
    "## Using multiple dispatch"
   ]
  },
  {
   "cell_type": "code",
   "execution_count": 20,
   "metadata": {},
   "outputs": [
    {
     "data": {
      "text/html": [
       "# 3 methods for generic function <b>func</b>:<ul><li> func(x::<b>Float64</b>) in Main at <a href=\"https://github.com/xijiang/Talk-Julia/tree/12ba39c677d63fa0a4acb1508ef653cc2af4f422//julia/04-support-for-scaling-projects.ipynb#L3\" target=\"_blank\">/mnt/w/1t-nvme/projects/Talk-Julia/julia/04-support-for-scaling-projects.ipynb:3</a></li> <li> func(x::<b>Number</b>) in Main at <a href=\"https://github.com/xijiang/Talk-Julia/tree/12ba39c677d63fa0a4acb1508ef653cc2af4f422//julia/04-support-for-scaling-projects.ipynb#L2\" target=\"_blank\">/mnt/w/1t-nvme/projects/Talk-Julia/julia/04-support-for-scaling-projects.ipynb:2</a></li> <li> func(x) in Main at <a href=\"https://github.com/xijiang/Talk-Julia/tree/12ba39c677d63fa0a4acb1508ef653cc2af4f422//julia/04-support-for-scaling-projects.ipynb#L1\" target=\"_blank\">/mnt/w/1t-nvme/projects/Talk-Julia/julia/04-support-for-scaling-projects.ipynb:1</a></li> </ul>"
      ],
      "text/plain": [
       "# 3 methods for generic function \"func\":\n",
       "[1] func(x::Float64) in Main at /mnt/w/1t-nvme/projects/Talk-Julia/julia/04-support-for-scaling-projects.ipynb:3\n",
       "[2] func(x::Number) in Main at /mnt/w/1t-nvme/projects/Talk-Julia/julia/04-support-for-scaling-projects.ipynb:2\n",
       "[3] func(x) in Main at /mnt/w/1t-nvme/projects/Talk-Julia/julia/04-support-for-scaling-projects.ipynb:1"
      ]
     },
     "metadata": {},
     "output_type": "display_data"
    }
   ],
   "source": [
    "func(x) = println(\"Unsupported type\")\n",
    "func(x::Number) = println(\"A number was passed\")\n",
    "func(x::Float64) = println(\"A Float64 was passed\")\n",
    "methods(func)"
   ]
  },
  {
   "cell_type": "code",
   "execution_count": 21,
   "metadata": {},
   "outputs": [
    {
     "name": "stdout",
     "output_type": "stream",
     "text": [
      "Unsupported type\n",
      "A number was passed\n",
      "A Float64 was passed\n"
     ]
    }
   ],
   "source": [
    "func(\"hello\")\n",
    "func(1)\n",
    "func(1.0)"
   ]
  },
  {
   "cell_type": "code",
   "execution_count": 22,
   "metadata": {},
   "outputs": [
    {
     "name": "stdout",
     "output_type": "stream",
     "text": [
      "No number passed\n",
      "first argument is a number\n",
      "second argument is a number\n"
     ]
    },
    {
     "ename": "MethodError",
     "evalue": "MethodError: bar(::Int64, ::Int64) is ambiguous. Candidates:\n  bar(x::Number, y) in Main at /mnt/w/1t-nvme/projects/Talk-Julia/julia/04-support-for-scaling-projects.ipynb:4\n  bar(x, y::Number) in Main at /mnt/w/1t-nvme/projects/Talk-Julia/julia/04-support-for-scaling-projects.ipynb:5\nPossible fix, define\n  bar(::Number, ::Number)",
     "output_type": "error",
     "traceback": [
      "MethodError: bar(::Int64, ::Int64) is ambiguous. Candidates:\n",
      "  bar(x::Number, y) in Main at /mnt/w/1t-nvme/projects/Talk-Julia/julia/04-support-for-scaling-projects.ipynb:4\n",
      "  bar(x, y::Number) in Main at /mnt/w/1t-nvme/projects/Talk-Julia/julia/04-support-for-scaling-projects.ipynb:5\n",
      "Possible fix, define\n",
      "  bar(::Number, ::Number)\n",
      "\n",
      "Stacktrace:\n",
      " [1] top-level scope\n",
      "   @ /mnt/w/1t-nvme/projects/Talk-Julia/julia/04-support-for-scaling-projects.ipynb:9"
     ]
    }
   ],
   "source": [
    "# Avoid ambiguity\n",
    "bar(x, y) = println(\"No number passed\")\n",
    "#bar(x::Number, y::Number) = println(\"Two numbers passed\")\n",
    "bar(x::Number, y) = println(\"first argument is a number\")\n",
    "bar(x, y::Number) = println(\"second argument is a number\")\n",
    "bar(\"hello\", \"world\")\n",
    "bar(1, \"world\")\n",
    "bar(\"hello\", 2)\n",
    "bar(1, 2)"
   ]
  },
  {
   "attachments": {},
   "cell_type": "markdown",
   "metadata": {},
   "source": [
    "## Working with packages\n",
    "\n",
    "- Functions are shared using packages in Julia world\n",
    "    - together with their environmental dependencies\n",
    "- `module`s are a way to define separate namespaces\n",
    "    - e.g., variable `a` in module `x` and `y` are independent, i.e., `x.a` and `y.a`"
   ]
  },
  {
   "attachments": {},
   "cell_type": "markdown",
   "metadata": {},
   "source": [
    "- Understand\n",
    "    - module\n",
    "    - package\n",
    "    - file\n",
    "    - functions"
   ]
  },
  {
   "cell_type": "code",
   "execution_count": 23,
   "metadata": {},
   "outputs": [
    {
     "data": {
      "text/plain": [
       "Main.exampleModule"
      ]
     },
     "metadata": {},
     "output_type": "display_data"
    }
   ],
   "source": [
    "module exampleModule\n",
    "\n",
    "function example() # note no indenting here\n",
    "    println(\"This is the example function\")\n",
    "end\n",
    "\n",
    "end # exampleModule"
   ]
  },
  {
   "cell_type": "code",
   "execution_count": 24,
   "metadata": {},
   "outputs": [
    {
     "name": "stdout",
     "output_type": "stream",
     "text": [
      "This is the example function\n"
     ]
    }
   ],
   "source": [
    "exampleModule.example()"
   ]
  },
  {
   "attachments": {},
   "cell_type": "markdown",
   "metadata": {},
   "source": [
    "- Optional\n",
    "    - create a package\n",
    "    - publish a package\n",
    "    - register a package to share\n",
    "- to use a package"
   ]
  },
  {
   "cell_type": "code",
   "execution_count": 25,
   "metadata": {},
   "outputs": [
    {
     "name": "stderr",
     "output_type": "stream",
     "text": [
      "WARNING: using Plots.bar in module Main conflicts with an existing identifier.\n"
     ]
    },
    {
     "data": {
      "image/png": "[encoded data removed]",
      "image/svg+xml": "<?xml version=\"1.0\" encoding=\"utf-8\"?>\n<svg xmlns=\"http://www.w3.org/2000/svg\" xmlns:xlink=\"http://www.w3.org/1999/xlink\" width=\"600\" height=\"400\" viewBox=\"0 0 2400 1600\">\n<defs>\n  <clipPath id=\"clip780\">\n    <rect x=\"0\" y=\"0\" width=\"2400\" height=\"1600\"/>\n  </clipPath>\n</defs>\n<path clip-path=\"url(#clip780)\" d=\"M0 1600 L2400 1600 L2400 0 L0 0  Z\" fill=\"#ffffff\" fill-rule=\"evenodd\" fill-opacity=\"1\"/>\n<defs>\n  <clipPath id=\"clip781\">\n    <rect x=\"480\" y=\"0\" width=\"1681\" height=\"1600\"/>\n  </clipPath>\n</defs>\n<path clip-path=\"url(#clip780)\" d=\"M186.274 1486.45 L2352.76 1486.45 L2352.76 47.2441 L186.274 47.2441  Z\" fill=\"#ffffff\" fill-rule=\"evenodd\" fill-opacity=\"1\"/>\n<defs>\n  <clipPath id=\"clip782\">\n    <rect x=\"186\" y=\"47\" width=\"2167\" height=\"1440\"/>\n  </clipPath>\n</defs>\n<polyline clip-path=\"url(#clip782)\" style=\"stroke:#000000; stroke-linecap:round; stroke-linejoin:round; stroke-width:2; stroke-opacity:0.1; fill:none\" points=\"474.684,1486.45 474.684,47.2441 \"/>\n<polyline clip-path=\"url(#clip782)\" style=\"stroke:#000000; stroke-linecap:round; stroke-linejoin:round; stroke-width:2; stroke-opacity:0.1; fill:none\" points=\"928.873,1486.45 928.873,47.2441 \"/>\n<polyline clip-path=\"url(#clip782)\" style=\"stroke:#000000; stroke-linecap:round; stroke-linejoin:round; stroke-width:2; stroke-opacity:0.1; fill:none\" points=\"1383.06,1486.45 1383.06,47.2441 \"/>\n<polyline clip-path=\"url(#clip782)\" style=\"stroke:#000000; stroke-linecap:round; stroke-linejoin:round; stroke-width:2; stroke-opacity:0.1; fill:none\" points=\"1837.25,1486.45 1837.25,47.2441 \"/>\n<polyline clip-path=\"url(#clip782)\" style=\"stroke:#000000; stroke-linecap:round; stroke-linejoin:round; stroke-width:2; stroke-opacity:0.1; fill:none\" points=\"2291.44,1486.45 2291.44,47.2441 \"/>\n<polyline clip-path=\"url(#clip780)\" style=\"stroke:#000000; stroke-linecap:round; stroke-linejoin:round; stroke-width:4; stroke-opacity:1; fill:none\" points=\"186.274,1486.45 2352.76,1486.45 \"/>\n<polyline clip-path=\"url(#clip780)\" style=\"stroke:#000000; stroke-linecap:round; stroke-linejoin:round; stroke-width:4; stroke-opacity:1; fill:none\" points=\"474.684,1486.45 474.684,1467.55 \"/>\n<polyline clip-path=\"url(#clip780)\" style=\"stroke:#000000; stroke-linecap:round; stroke-linejoin:round; stroke-width:4; stroke-opacity:1; fill:none\" points=\"928.873,1486.45 928.873,1467.55 \"/>\n<polyline clip-path=\"url(#clip780)\" style=\"stroke:#000000; stroke-linecap:round; stroke-linejoin:round; stroke-width:4; stroke-opacity:1; fill:none\" points=\"1383.06,1486.45 1383.06,1467.55 \"/>\n<polyline clip-path=\"url(#clip780)\" style=\"stroke:#000000; stroke-linecap:round; stroke-linejoin:round; stroke-width:4; stroke-opacity:1; fill:none\" points=\"1837.25,1486.45 1837.25,1467.55 \"/>\n<polyline clip-path=\"url(#clip780)\" style=\"stroke:#000000; stroke-linecap:round; stroke-linejoin:round; stroke-width:4; stroke-opacity:1; fill:none\" points=\"2291.44,1486.45 2291.44,1467.55 \"/>\n<path clip-path=\"url(#clip780)\" d=\"M469.337 1544.91 L485.656 1544.91 L485.656 1548.85 L463.712 1548.85 L463.712 1544.91 Q466.374 1542.16 470.957 1537.53 Q475.564 1532.88 476.744 1531.53 Q478.99 1529.01 479.869 1527.27 Q480.772 1525.51 480.772 1523.82 Q480.772 1521.07 478.828 1519.33 Q476.906 1517.6 473.804 1517.6 Q471.605 1517.6 469.152 1518.36 Q466.721 1519.13 463.943 1520.68 L463.943 1515.95 Q466.767 1514.82 469.221 1514.24 Q471.675 1513.66 473.712 1513.66 Q479.082 1513.66 482.277 1516.35 Q485.471 1519.03 485.471 1523.52 Q485.471 1525.65 484.661 1527.57 Q483.874 1529.47 481.767 1532.07 Q481.189 1532.74 478.087 1535.95 Q474.985 1539.15 469.337 1544.91 Z\" fill=\"#000000\" fill-rule=\"evenodd\" fill-opacity=\"1\" /><path clip-path=\"url(#clip780)\" d=\"M931.882 1518.36 L920.077 1536.81 L931.882 1536.81 L931.882 1518.36 M930.656 1514.29 L936.535 1514.29 L936.535 1536.81 L941.466 1536.81 L941.466 1540.7 L936.535 1540.7 L936.535 1548.85 L931.882 1548.85 L931.882 1540.7 L916.281 1540.7 L916.281 1536.19 L930.656 1514.29 Z\" fill=\"#000000\" fill-rule=\"evenodd\" fill-opacity=\"1\" /><path clip-path=\"url(#clip780)\" d=\"M1383.47 1529.7 Q1380.32 1529.7 1378.47 1531.86 Q1376.64 1534.01 1376.64 1537.76 Q1376.64 1541.49 1378.47 1543.66 Q1380.32 1545.82 1383.47 1545.82 Q1386.62 1545.82 1388.44 1543.66 Q1390.3 1541.49 1390.3 1537.76 Q1390.3 1534.01 1388.44 1531.86 Q1386.62 1529.7 1383.47 1529.7 M1392.75 1515.05 L1392.75 1519.31 Q1390.99 1518.48 1389.18 1518.04 Q1387.4 1517.6 1385.64 1517.6 Q1381.01 1517.6 1378.56 1520.72 Q1376.13 1523.85 1375.78 1530.17 Q1377.15 1528.15 1379.21 1527.09 Q1381.27 1526 1383.75 1526 Q1388.95 1526 1391.96 1529.17 Q1395 1532.32 1395 1537.76 Q1395 1543.08 1391.85 1546.3 Q1388.7 1549.52 1383.47 1549.52 Q1377.47 1549.52 1374.3 1544.94 Q1371.13 1540.33 1371.13 1531.6 Q1371.13 1523.41 1375.02 1518.55 Q1378.91 1513.66 1385.46 1513.66 Q1387.22 1513.66 1389 1514.01 Q1390.81 1514.36 1392.75 1515.05 Z\" fill=\"#000000\" fill-rule=\"evenodd\" fill-opacity=\"1\" /><path clip-path=\"url(#clip780)\" d=\"M1837.25 1532.44 Q1833.92 1532.44 1832 1534.22 Q1830.1 1536 1830.1 1539.13 Q1830.1 1542.25 1832 1544.03 Q1833.92 1545.82 1837.25 1545.82 Q1840.58 1545.82 1842.51 1544.03 Q1844.43 1542.23 1844.43 1539.13 Q1844.43 1536 1842.51 1534.22 Q1840.61 1532.44 1837.25 1532.44 M1832.58 1530.45 Q1829.57 1529.7 1827.88 1527.64 Q1826.21 1525.58 1826.21 1522.62 Q1826.21 1518.48 1829.15 1516.07 Q1832.11 1513.66 1837.25 1513.66 Q1842.41 1513.66 1845.35 1516.07 Q1848.29 1518.48 1848.29 1522.62 Q1848.29 1525.58 1846.6 1527.64 Q1844.94 1529.7 1841.95 1530.45 Q1845.33 1531.23 1847.2 1533.52 Q1849.1 1535.82 1849.1 1539.13 Q1849.1 1544.15 1846.02 1546.83 Q1842.97 1549.52 1837.25 1549.52 Q1831.53 1549.52 1828.46 1546.83 Q1825.4 1544.15 1825.4 1539.13 Q1825.4 1535.82 1827.3 1533.52 Q1829.2 1531.23 1832.58 1530.45 M1830.86 1523.06 Q1830.86 1525.75 1832.53 1527.25 Q1834.22 1528.76 1837.25 1528.76 Q1840.26 1528.76 1841.95 1527.25 Q1843.66 1525.75 1843.66 1523.06 Q1843.66 1520.38 1841.95 1518.87 Q1840.26 1517.37 1837.25 1517.37 Q1834.22 1517.37 1832.53 1518.87 Q1830.86 1520.38 1830.86 1523.06 Z\" fill=\"#000000\" fill-rule=\"evenodd\" fill-opacity=\"1\" /><path clip-path=\"url(#clip780)\" d=\"M2266.13 1544.91 L2273.77 1544.91 L2273.77 1518.55 L2265.46 1520.21 L2265.46 1515.95 L2273.72 1514.29 L2278.4 1514.29 L2278.4 1544.91 L2286.04 1544.91 L2286.04 1548.85 L2266.13 1548.85 L2266.13 1544.91 Z\" fill=\"#000000\" fill-rule=\"evenodd\" fill-opacity=\"1\" /><path clip-path=\"url(#clip780)\" d=\"M2305.48 1517.37 Q2301.87 1517.37 2300.04 1520.93 Q2298.23 1524.47 2298.23 1531.6 Q2298.23 1538.71 2300.04 1542.27 Q2301.87 1545.82 2305.48 1545.82 Q2309.11 1545.82 2310.92 1542.27 Q2312.75 1538.71 2312.75 1531.6 Q2312.75 1524.47 2310.92 1520.93 Q2309.11 1517.37 2305.48 1517.37 M2305.48 1513.66 Q2311.29 1513.66 2314.35 1518.27 Q2317.42 1522.85 2317.42 1531.6 Q2317.42 1540.33 2314.35 1544.94 Q2311.29 1549.52 2305.48 1549.52 Q2299.67 1549.52 2296.59 1544.94 Q2293.54 1540.33 2293.54 1531.6 Q2293.54 1522.85 2296.59 1518.27 Q2299.67 1513.66 2305.48 1513.66 Z\" fill=\"#000000\" fill-rule=\"evenodd\" fill-opacity=\"1\" /><polyline clip-path=\"url(#clip782)\" style=\"stroke:#000000; stroke-linecap:round; stroke-linejoin:round; stroke-width:2; stroke-opacity:0.1; fill:none\" points=\"186.274,1449.04 2352.76,1449.04 \"/>\n<polyline clip-path=\"url(#clip782)\" style=\"stroke:#000000; stroke-linecap:round; stroke-linejoin:round; stroke-width:2; stroke-opacity:0.1; fill:none\" points=\"186.274,1108.39 2352.76,1108.39 \"/>\n<polyline clip-path=\"url(#clip782)\" style=\"stroke:#000000; stroke-linecap:round; stroke-linejoin:round; stroke-width:2; stroke-opacity:0.1; fill:none\" points=\"186.274,767.745 2352.76,767.745 \"/>\n<polyline clip-path=\"url(#clip782)\" style=\"stroke:#000000; stroke-linecap:round; stroke-linejoin:round; stroke-width:2; stroke-opacity:0.1; fill:none\" points=\"186.274,427.098 2352.76,427.098 \"/>\n<polyline clip-path=\"url(#clip782)\" style=\"stroke:#000000; stroke-linecap:round; stroke-linejoin:round; stroke-width:2; stroke-opacity:0.1; fill:none\" points=\"186.274,86.4496 2352.76,86.4496 \"/>\n<polyline clip-path=\"url(#clip780)\" style=\"stroke:#000000; stroke-linecap:round; stroke-linejoin:round; stroke-width:4; stroke-opacity:1; fill:none\" points=\"186.274,1486.45 186.274,47.2441 \"/>\n<polyline clip-path=\"url(#clip780)\" style=\"stroke:#000000; stroke-linecap:round; stroke-linejoin:round; stroke-width:4; stroke-opacity:1; fill:none\" points=\"186.274,1449.04 205.172,1449.04 \"/>\n<polyline clip-path=\"url(#clip780)\" style=\"stroke:#000000; stroke-linecap:round; stroke-linejoin:round; stroke-width:4; stroke-opacity:1; fill:none\" points=\"186.274,1108.39 205.172,1108.39 \"/>\n<polyline clip-path=\"url(#clip780)\" style=\"stroke:#000000; stroke-linecap:round; stroke-linejoin:round; stroke-width:4; stroke-opacity:1; fill:none\" points=\"186.274,767.745 205.172,767.745 \"/>\n<polyline clip-path=\"url(#clip780)\" style=\"stroke:#000000; stroke-linecap:round; stroke-linejoin:round; stroke-width:4; stroke-opacity:1; fill:none\" points=\"186.274,427.098 205.172,427.098 \"/>\n<polyline clip-path=\"url(#clip780)\" style=\"stroke:#000000; stroke-linecap:round; stroke-linejoin:round; stroke-width:4; stroke-opacity:1; fill:none\" points=\"186.274,86.4496 205.172,86.4496 \"/>\n<path clip-path=\"url(#clip780)\" d=\"M62.9365 1434.84 Q59.3254 1434.84 57.4967 1438.4 Q55.6912 1441.95 55.6912 1449.08 Q55.6912 1456.18 57.4967 1459.75 Q59.3254 1463.29 62.9365 1463.29 Q66.5707 1463.29 68.3763 1459.75 Q70.205 1456.18 70.205 1449.08 Q70.205 1441.95 68.3763 1438.4 Q66.5707 1434.84 62.9365 1434.84 M62.9365 1431.14 Q68.7467 1431.14 71.8022 1435.74 Q74.8809 1440.33 74.8809 1449.08 Q74.8809 1457.8 71.8022 1462.41 Q68.7467 1466.99 62.9365 1466.99 Q57.1264 1466.99 54.0477 1462.41 Q50.9921 1457.8 50.9921 1449.08 Q50.9921 1440.33 54.0477 1435.74 Q57.1264 1431.14 62.9365 1431.14 Z\" fill=\"#000000\" fill-rule=\"evenodd\" fill-opacity=\"1\" /><path clip-path=\"url(#clip780)\" d=\"M83.0984 1460.44 L87.9827 1460.44 L87.9827 1466.32 L83.0984 1466.32 L83.0984 1460.44 Z\" fill=\"#000000\" fill-rule=\"evenodd\" fill-opacity=\"1\" /><path clip-path=\"url(#clip780)\" d=\"M108.168 1434.84 Q104.557 1434.84 102.728 1438.4 Q100.922 1441.95 100.922 1449.08 Q100.922 1456.18 102.728 1459.75 Q104.557 1463.29 108.168 1463.29 Q111.802 1463.29 113.608 1459.75 Q115.436 1456.18 115.436 1449.08 Q115.436 1441.95 113.608 1438.4 Q111.802 1434.84 108.168 1434.84 M108.168 1431.14 Q113.978 1431.14 117.033 1435.74 Q120.112 1440.33 120.112 1449.08 Q120.112 1457.8 117.033 1462.41 Q113.978 1466.99 108.168 1466.99 Q102.358 1466.99 99.2789 1462.41 Q96.2234 1457.8 96.2234 1449.08 Q96.2234 1440.33 99.2789 1435.74 Q102.358 1431.14 108.168 1431.14 Z\" fill=\"#000000\" fill-rule=\"evenodd\" fill-opacity=\"1\" /><path clip-path=\"url(#clip780)\" d=\"M138.33 1434.84 Q134.719 1434.84 132.89 1438.4 Q131.084 1441.95 131.084 1449.08 Q131.084 1456.18 132.89 1459.75 Q134.719 1463.29 138.33 1463.29 Q141.964 1463.29 143.769 1459.75 Q145.598 1456.18 145.598 1449.08 Q145.598 1441.95 143.769 1438.4 Q141.964 1434.84 138.33 1434.84 M138.33 1431.14 Q144.14 1431.14 147.195 1435.74 Q150.274 1440.33 150.274 1449.08 Q150.274 1457.8 147.195 1462.41 Q144.14 1466.99 138.33 1466.99 Q132.519 1466.99 129.441 1462.41 Q126.385 1457.8 126.385 1449.08 Q126.385 1440.33 129.441 1435.74 Q132.519 1431.14 138.33 1431.14 Z\" fill=\"#000000\" fill-rule=\"evenodd\" fill-opacity=\"1\" /><path clip-path=\"url(#clip780)\" d=\"M63.9319 1094.19 Q60.3208 1094.19 58.4921 1097.76 Q56.6865 1101.3 56.6865 1108.43 Q56.6865 1115.53 58.4921 1119.1 Q60.3208 1122.64 63.9319 1122.64 Q67.5661 1122.64 69.3717 1119.1 Q71.2004 1115.53 71.2004 1108.43 Q71.2004 1101.3 69.3717 1097.76 Q67.5661 1094.19 63.9319 1094.19 M63.9319 1090.49 Q69.742 1090.49 72.7976 1095.09 Q75.8763 1099.68 75.8763 1108.43 Q75.8763 1117.15 72.7976 1121.76 Q69.742 1126.34 63.9319 1126.34 Q58.1217 1126.34 55.043 1121.76 Q51.9875 1117.15 51.9875 1108.43 Q51.9875 1099.68 55.043 1095.09 Q58.1217 1090.49 63.9319 1090.49 Z\" fill=\"#000000\" fill-rule=\"evenodd\" fill-opacity=\"1\" /><path clip-path=\"url(#clip780)\" d=\"M84.0938 1119.79 L88.978 1119.79 L88.978 1125.67 L84.0938 1125.67 L84.0938 1119.79 Z\" fill=\"#000000\" fill-rule=\"evenodd\" fill-opacity=\"1\" /><path clip-path=\"url(#clip780)\" d=\"M103.191 1121.74 L119.51 1121.74 L119.51 1125.67 L97.566 1125.67 L97.566 1121.74 Q100.228 1118.98 104.811 1114.35 Q109.418 1109.7 110.598 1108.36 Q112.844 1105.84 113.723 1104.1 Q114.626 1102.34 114.626 1100.65 Q114.626 1097.9 112.682 1096.16 Q110.76 1094.42 107.658 1094.42 Q105.459 1094.42 103.006 1095.19 Q100.575 1095.95 97.7974 1097.5 L97.7974 1092.78 Q100.621 1091.65 103.075 1091.07 Q105.529 1090.49 107.566 1090.49 Q112.936 1090.49 116.131 1093.17 Q119.325 1095.86 119.325 1100.35 Q119.325 1102.48 118.515 1104.4 Q117.728 1106.3 115.621 1108.89 Q115.043 1109.56 111.941 1112.78 Q108.839 1115.97 103.191 1121.74 Z\" fill=\"#000000\" fill-rule=\"evenodd\" fill-opacity=\"1\" /><path clip-path=\"url(#clip780)\" d=\"M129.371 1091.11 L147.728 1091.11 L147.728 1095.05 L133.654 1095.05 L133.654 1103.52 Q134.672 1103.17 135.691 1103.01 Q136.709 1102.83 137.728 1102.83 Q143.515 1102.83 146.894 1106 Q150.274 1109.17 150.274 1114.59 Q150.274 1120.16 146.802 1123.27 Q143.33 1126.34 137.01 1126.34 Q134.834 1126.34 132.566 1125.97 Q130.32 1125.6 127.913 1124.86 L127.913 1120.16 Q129.996 1121.3 132.219 1121.85 Q134.441 1122.41 136.918 1122.41 Q140.922 1122.41 143.26 1120.3 Q145.598 1118.2 145.598 1114.59 Q145.598 1110.97 143.26 1108.87 Q140.922 1106.76 136.918 1106.76 Q135.043 1106.76 133.168 1107.18 Q131.316 1107.59 129.371 1108.47 L129.371 1091.11 Z\" fill=\"#000000\" fill-rule=\"evenodd\" fill-opacity=\"1\" /><path clip-path=\"url(#clip780)\" d=\"M62.9365 753.544 Q59.3254 753.544 57.4967 757.109 Q55.6912 760.651 55.6912 767.78 Q55.6912 774.887 57.4967 778.451 Q59.3254 781.993 62.9365 781.993 Q66.5707 781.993 68.3763 778.451 Q70.205 774.887 70.205 767.78 Q70.205 760.651 68.3763 757.109 Q66.5707 753.544 62.9365 753.544 M62.9365 749.84 Q68.7467 749.84 71.8022 754.447 Q74.8809 759.03 74.8809 767.78 Q74.8809 776.507 71.8022 781.113 Q68.7467 785.697 62.9365 785.697 Q57.1264 785.697 54.0477 781.113 Q50.9921 776.507 50.9921 767.78 Q50.9921 759.03 54.0477 754.447 Q57.1264 749.84 62.9365 749.84 Z\" fill=\"#000000\" fill-rule=\"evenodd\" fill-opacity=\"1\" /><path clip-path=\"url(#clip780)\" d=\"M83.0984 779.146 L87.9827 779.146 L87.9827 785.025 L83.0984 785.025 L83.0984 779.146 Z\" fill=\"#000000\" fill-rule=\"evenodd\" fill-opacity=\"1\" /><path clip-path=\"url(#clip780)\" d=\"M98.2141 750.465 L116.57 750.465 L116.57 754.401 L102.496 754.401 L102.496 762.873 Q103.515 762.526 104.534 762.364 Q105.552 762.178 106.571 762.178 Q112.358 762.178 115.737 765.35 Q119.117 768.521 119.117 773.938 Q119.117 779.516 115.645 782.618 Q112.172 785.697 105.853 785.697 Q103.677 785.697 101.409 785.326 Q99.1632 784.956 96.7558 784.215 L96.7558 779.516 Q98.8391 780.651 101.061 781.206 Q103.284 781.762 105.76 781.762 Q109.765 781.762 112.103 779.655 Q114.441 777.549 114.441 773.938 Q114.441 770.327 112.103 768.22 Q109.765 766.114 105.76 766.114 Q103.885 766.114 102.01 766.53 Q100.159 766.947 98.2141 767.827 L98.2141 750.465 Z\" fill=\"#000000\" fill-rule=\"evenodd\" fill-opacity=\"1\" /><path clip-path=\"url(#clip780)\" d=\"M138.33 753.544 Q134.719 753.544 132.89 757.109 Q131.084 760.651 131.084 767.78 Q131.084 774.887 132.89 778.451 Q134.719 781.993 138.33 781.993 Q141.964 781.993 143.769 778.451 Q145.598 774.887 145.598 767.78 Q145.598 760.651 143.769 757.109 Q141.964 753.544 138.33 753.544 M138.33 749.84 Q144.14 749.84 147.195 754.447 Q150.274 759.03 150.274 767.78 Q150.274 776.507 147.195 781.113 Q144.14 785.697 138.33 785.697 Q132.519 785.697 129.441 781.113 Q126.385 776.507 126.385 767.78 Q126.385 759.03 129.441 754.447 Q132.519 749.84 138.33 749.84 Z\" fill=\"#000000\" fill-rule=\"evenodd\" fill-opacity=\"1\" /><path clip-path=\"url(#clip780)\" d=\"M63.9319 412.896 Q60.3208 412.896 58.4921 416.461 Q56.6865 420.003 56.6865 427.132 Q56.6865 434.239 58.4921 437.804 Q60.3208 441.345 63.9319 441.345 Q67.5661 441.345 69.3717 437.804 Q71.2004 434.239 71.2004 427.132 Q71.2004 420.003 69.3717 416.461 Q67.5661 412.896 63.9319 412.896 M63.9319 409.193 Q69.742 409.193 72.7976 413.799 Q75.8763 418.382 75.8763 427.132 Q75.8763 435.859 72.7976 440.466 Q69.742 445.049 63.9319 445.049 Q58.1217 445.049 55.043 440.466 Q51.9875 435.859 51.9875 427.132 Q51.9875 418.382 55.043 413.799 Q58.1217 409.193 63.9319 409.193 Z\" fill=\"#000000\" fill-rule=\"evenodd\" fill-opacity=\"1\" /><path clip-path=\"url(#clip780)\" d=\"M84.0938 438.498 L88.978 438.498 L88.978 444.378 L84.0938 444.378 L84.0938 438.498 Z\" fill=\"#000000\" fill-rule=\"evenodd\" fill-opacity=\"1\" /><path clip-path=\"url(#clip780)\" d=\"M97.9826 409.818 L120.205 409.818 L120.205 411.808 L107.658 444.378 L102.774 444.378 L114.58 413.753 L97.9826 413.753 L97.9826 409.818 Z\" fill=\"#000000\" fill-rule=\"evenodd\" fill-opacity=\"1\" /><path clip-path=\"url(#clip780)\" d=\"M129.371 409.818 L147.728 409.818 L147.728 413.753 L133.654 413.753 L133.654 422.225 Q134.672 421.878 135.691 421.716 Q136.709 421.53 137.728 421.53 Q143.515 421.53 146.894 424.702 Q150.274 427.873 150.274 433.29 Q150.274 438.868 146.802 441.97 Q143.33 445.049 137.01 445.049 Q134.834 445.049 132.566 444.678 Q130.32 444.308 127.913 443.567 L127.913 438.868 Q129.996 440.003 132.219 440.558 Q134.441 441.114 136.918 441.114 Q140.922 441.114 143.26 439.007 Q145.598 436.901 145.598 433.29 Q145.598 429.679 143.26 427.572 Q140.922 425.466 136.918 425.466 Q135.043 425.466 133.168 425.882 Q131.316 426.299 129.371 427.179 L129.371 409.818 Z\" fill=\"#000000\" fill-rule=\"evenodd\" fill-opacity=\"1\" /><path clip-path=\"url(#clip780)\" d=\"M53.7467 99.7944 L61.3856 99.7944 L61.3856 73.4288 L53.0754 75.0955 L53.0754 70.8363 L61.3393 69.1696 L66.0152 69.1696 L66.0152 99.7944 L73.654 99.7944 L73.654 103.73 L53.7467 103.73 L53.7467 99.7944 Z\" fill=\"#000000\" fill-rule=\"evenodd\" fill-opacity=\"1\" /><path clip-path=\"url(#clip780)\" d=\"M83.0984 97.85 L87.9827 97.85 L87.9827 103.73 L83.0984 103.73 L83.0984 97.85 Z\" fill=\"#000000\" fill-rule=\"evenodd\" fill-opacity=\"1\" /><path clip-path=\"url(#clip780)\" d=\"M108.168 72.2483 Q104.557 72.2483 102.728 75.8131 Q100.922 79.3547 100.922 86.4843 Q100.922 93.5908 102.728 97.1556 Q104.557 100.697 108.168 100.697 Q111.802 100.697 113.608 97.1556 Q115.436 93.5908 115.436 86.4843 Q115.436 79.3547 113.608 75.8131 Q111.802 72.2483 108.168 72.2483 M108.168 68.5446 Q113.978 68.5446 117.033 73.1511 Q120.112 77.7344 120.112 86.4843 Q120.112 95.2111 117.033 99.8176 Q113.978 104.401 108.168 104.401 Q102.358 104.401 99.2789 99.8176 Q96.2234 95.2111 96.2234 86.4843 Q96.2234 77.7344 99.2789 73.1511 Q102.358 68.5446 108.168 68.5446 Z\" fill=\"#000000\" fill-rule=\"evenodd\" fill-opacity=\"1\" /><path clip-path=\"url(#clip780)\" d=\"M138.33 72.2483 Q134.719 72.2483 132.89 75.8131 Q131.084 79.3547 131.084 86.4843 Q131.084 93.5908 132.89 97.1556 Q134.719 100.697 138.33 100.697 Q141.964 100.697 143.769 97.1556 Q145.598 93.5908 145.598 86.4843 Q145.598 79.3547 143.769 75.8131 Q141.964 72.2483 138.33 72.2483 M138.33 68.5446 Q144.14 68.5446 147.195 73.1511 Q150.274 77.7344 150.274 86.4843 Q150.274 95.2111 147.195 99.8176 Q144.14 104.401 138.33 104.401 Q132.519 104.401 129.441 99.8176 Q126.385 95.2111 126.385 86.4843 Q126.385 77.7344 129.441 73.1511 Q132.519 68.5446 138.33 68.5446 Z\" fill=\"#000000\" fill-rule=\"evenodd\" fill-opacity=\"1\" /><polyline clip-path=\"url(#clip782)\" style=\"stroke:#009af9; stroke-linecap:round; stroke-linejoin:round; stroke-width:4; stroke-opacity:1; fill:none\" points=\"247.59,1212.79 474.684,426.071 701.779,628.028 928.873,172.97 1155.97,87.9763 1383.06,164.728 1610.16,1242.42 1837.25,560.167 2064.35,1137.32 2291.44,966.2 \"/>\n<polyline clip-path=\"url(#clip782)\" style=\"stroke:#e26f46; stroke-linecap:round; stroke-linejoin:round; stroke-width:4; stroke-opacity:1; fill:none\" points=\"247.59,719.57 474.684,106.135 701.779,1237.56 928.873,1219.25 1155.97,222.452 1383.06,554.602 1610.16,293.561 1837.25,460.255 2064.35,227.327 2291.44,963.946 \"/>\n<polyline clip-path=\"url(#clip782)\" style=\"stroke:#3da44d; stroke-linecap:round; stroke-linejoin:round; stroke-width:4; stroke-opacity:1; fill:none\" points=\"247.59,339.451 474.684,1307.58 701.779,1136.45 928.873,1326.41 1155.97,1445.72 1383.06,880.007 1610.16,613.204 1837.25,113.418 2064.35,143.611 2291.44,135.171 \"/>\n<path clip-path=\"url(#clip780)\" d=\"M2040.7 1438.47 L2280.54 1438.47 L2280.54 1231.11 L2040.7 1231.11  Z\" fill=\"#ffffff\" fill-rule=\"evenodd\" fill-opacity=\"1\"/>\n<polyline clip-path=\"url(#clip780)\" style=\"stroke:#000000; stroke-linecap:round; stroke-linejoin:round; stroke-width:4; stroke-opacity:1; fill:none\" points=\"2040.7,1438.47 2280.54,1438.47 2280.54,1231.11 2040.7,1231.11 2040.7,1438.47 \"/>\n<polyline clip-path=\"url(#clip780)\" style=\"stroke:#009af9; stroke-linecap:round; stroke-linejoin:round; stroke-width:4; stroke-opacity:1; fill:none\" points=\"2064.77,1282.95 2209.2,1282.95 \"/>\n<path clip-path=\"url(#clip780)\" d=\"M2246.68 1287.2 Q2241.51 1287.2 2239.52 1288.38 Q2237.53 1289.56 2237.53 1292.41 Q2237.53 1294.68 2239.01 1296.02 Q2240.52 1297.34 2243.09 1297.34 Q2246.63 1297.34 2248.76 1294.84 Q2250.91 1292.32 2250.91 1288.15 L2250.91 1287.2 L2246.68 1287.2 M2255.17 1285.44 L2255.17 1300.23 L2250.91 1300.23 L2250.91 1296.3 Q2249.45 1298.66 2247.28 1299.79 Q2245.1 1300.91 2241.95 1300.91 Q2237.97 1300.91 2235.61 1298.68 Q2233.27 1296.44 2233.27 1292.69 Q2233.27 1288.31 2236.19 1286.09 Q2239.13 1283.87 2244.94 1283.87 L2250.91 1283.87 L2250.91 1283.45 Q2250.91 1280.51 2248.97 1278.92 Q2247.05 1277.29 2243.55 1277.29 Q2241.33 1277.29 2239.22 1277.83 Q2237.12 1278.36 2235.17 1279.42 L2235.17 1275.49 Q2237.51 1274.59 2239.71 1274.15 Q2241.91 1273.68 2243.99 1273.68 Q2249.62 1273.68 2252.39 1276.6 Q2255.17 1279.52 2255.17 1285.44 Z\" fill=\"#000000\" fill-rule=\"evenodd\" fill-opacity=\"1\" /><polyline clip-path=\"url(#clip780)\" style=\"stroke:#e26f46; stroke-linecap:round; stroke-linejoin:round; stroke-width:4; stroke-opacity:1; fill:none\" points=\"2064.77,1334.79 2209.2,1334.79 \"/>\n<path clip-path=\"url(#clip780)\" d=\"M2252.05 1339.13 Q2252.05 1334.44 2250.1 1331.77 Q2248.18 1329.09 2244.8 1329.09 Q2241.42 1329.09 2239.48 1331.77 Q2237.56 1334.44 2237.56 1339.13 Q2237.56 1343.83 2239.48 1346.52 Q2241.42 1349.18 2244.8 1349.18 Q2248.18 1349.18 2250.1 1346.52 Q2252.05 1343.83 2252.05 1339.13 M2237.56 1330.08 Q2238.9 1327.77 2240.94 1326.66 Q2243 1325.52 2245.84 1325.52 Q2250.57 1325.52 2253.5 1329.27 Q2256.47 1333.02 2256.47 1339.13 Q2256.47 1345.25 2253.5 1349 Q2250.57 1352.75 2245.84 1352.75 Q2243 1352.75 2240.94 1351.63 Q2238.9 1350.5 2237.56 1348.19 L2237.56 1352.07 L2233.27 1352.07 L2233.27 1316.06 L2237.56 1316.06 L2237.56 1330.08 Z\" fill=\"#000000\" fill-rule=\"evenodd\" fill-opacity=\"1\" /><polyline clip-path=\"url(#clip780)\" style=\"stroke:#3da44d; stroke-linecap:round; stroke-linejoin:round; stroke-width:4; stroke-opacity:1; fill:none\" points=\"2064.77,1386.63 2209.2,1386.63 \"/>\n<path clip-path=\"url(#clip780)\" d=\"M2253.78 1378.98 L2253.78 1382.97 Q2251.98 1381.97 2250.15 1381.48 Q2248.34 1380.97 2246.49 1380.97 Q2242.35 1380.97 2240.06 1383.61 Q2237.76 1386.23 2237.76 1390.97 Q2237.76 1395.72 2240.06 1398.36 Q2242.35 1400.97 2246.49 1400.97 Q2248.34 1400.97 2250.15 1400.49 Q2251.98 1399.98 2253.78 1398.98 L2253.78 1402.92 Q2252 1403.75 2250.08 1404.17 Q2248.18 1404.59 2246.03 1404.59 Q2240.17 1404.59 2236.72 1400.91 Q2233.27 1397.22 2233.27 1390.97 Q2233.27 1384.63 2236.75 1381 Q2240.24 1377.36 2246.31 1377.36 Q2248.27 1377.36 2250.15 1377.78 Q2252.02 1378.17 2253.78 1378.98 Z\" fill=\"#000000\" fill-rule=\"evenodd\" fill-opacity=\"1\" /></svg>\n",
      "text/html": [
       "<?xml version=\"1.0\" encoding=\"utf-8\"?>\n",
       "<svg xmlns=\"http://www.w3.org/2000/svg\" xmlns:xlink=\"http://www.w3.org/1999/xlink\" width=\"600\" height=\"400\" viewBox=\"0 0 2400 1600\">\n",
       "<defs>\n",
       "  <clipPath id=\"clip830\">\n",
       "    <rect x=\"0\" y=\"0\" width=\"2400\" height=\"1600\"/>\n",
       "  </clipPath>\n",
       "</defs>\n",
       "<path clip-path=\"url(#clip830)\" d=\"M0 1600 L2400 1600 L2400 0 L0 0  Z\" fill=\"#ffffff\" fill-rule=\"evenodd\" fill-opacity=\"1\"/>\n",
       "<defs>\n",
       "  <clipPath id=\"clip831\">\n",
       "    <rect x=\"480\" y=\"0\" width=\"1681\" height=\"1600\"/>\n",
       "  </clipPath>\n",
       "</defs>\n",
       "<path clip-path=\"url(#clip830)\" d=\"M186.274 1486.45 L2352.76 1486.45 L2352.76 47.2441 L186.274 47.2441  Z\" fill=\"#ffffff\" fill-rule=\"evenodd\" fill-opacity=\"1\"/>\n",
       "<defs>\n",
       "  <clipPath id=\"clip832\">\n",
       "    <rect x=\"186\" y=\"47\" width=\"2167\" height=\"1440\"/>\n",
       "  </clipPath>\n",
       "</defs>\n",
       "<polyline clip-path=\"url(#clip832)\" style=\"stroke:#000000; stroke-linecap:round; stroke-linejoin:round; stroke-width:2; stroke-opacity:0.1; fill:none\" points=\"474.684,1486.45 474.684,47.2441 \"/>\n",
       "<polyline clip-path=\"url(#clip832)\" style=\"stroke:#000000; stroke-linecap:round; stroke-linejoin:round; stroke-width:2; stroke-opacity:0.1; fill:none\" points=\"928.873,1486.45 928.873,47.2441 \"/>\n",
       "<polyline clip-path=\"url(#clip832)\" style=\"stroke:#000000; stroke-linecap:round; stroke-linejoin:round; stroke-width:2; stroke-opacity:0.1; fill:none\" points=\"1383.06,1486.45 1383.06,47.2441 \"/>\n",
       "<polyline clip-path=\"url(#clip832)\" style=\"stroke:#000000; stroke-linecap:round; stroke-linejoin:round; stroke-width:2; stroke-opacity:0.1; fill:none\" points=\"1837.25,1486.45 1837.25,47.2441 \"/>\n",
       "<polyline clip-path=\"url(#clip832)\" style=\"stroke:#000000; stroke-linecap:round; stroke-linejoin:round; stroke-width:2; stroke-opacity:0.1; fill:none\" points=\"2291.44,1486.45 2291.44,47.2441 \"/>\n",
       "<polyline clip-path=\"url(#clip830)\" style=\"stroke:#000000; stroke-linecap:round; stroke-linejoin:round; stroke-width:4; stroke-opacity:1; fill:none\" points=\"186.274,1486.45 2352.76,1486.45 \"/>\n",
       "<polyline clip-path=\"url(#clip830)\" style=\"stroke:#000000; stroke-linecap:round; stroke-linejoin:round; stroke-width:4; stroke-opacity:1; fill:none\" points=\"474.684,1486.45 474.684,1467.55 \"/>\n",
       "<polyline clip-path=\"url(#clip830)\" style=\"stroke:#000000; stroke-linecap:round; stroke-linejoin:round; stroke-width:4; stroke-opacity:1; fill:none\" points=\"928.873,1486.45 928.873,1467.55 \"/>\n",
       "<polyline clip-path=\"url(#clip830)\" style=\"stroke:#000000; stroke-linecap:round; stroke-linejoin:round; stroke-width:4; stroke-opacity:1; fill:none\" points=\"1383.06,1486.45 1383.06,1467.55 \"/>\n",
       "<polyline clip-path=\"url(#clip830)\" style=\"stroke:#000000; stroke-linecap:round; stroke-linejoin:round; stroke-width:4; stroke-opacity:1; fill:none\" points=\"1837.25,1486.45 1837.25,1467.55 \"/>\n",
       "<polyline clip-path=\"url(#clip830)\" style=\"stroke:#000000; stroke-linecap:round; stroke-linejoin:round; stroke-width:4; stroke-opacity:1; fill:none\" points=\"2291.44,1486.45 2291.44,1467.55 \"/>\n",
       "<path clip-path=\"url(#clip830)\" d=\"M469.337 1544.91 L485.656 1544.91 L485.656 1548.85 L463.712 1548.85 L463.712 1544.91 Q466.374 1542.16 470.957 1537.53 Q475.564 1532.88 476.744 1531.53 Q478.99 1529.01 479.869 1527.27 Q480.772 1525.51 480.772 1523.82 Q480.772 1521.07 478.828 1519.33 Q476.906 1517.6 473.804 1517.6 Q471.605 1517.6 469.152 1518.36 Q466.721 1519.13 463.943 1520.68 L463.943 1515.95 Q466.767 1514.82 469.221 1514.24 Q471.675 1513.66 473.712 1513.66 Q479.082 1513.66 482.277 1516.35 Q485.471 1519.03 485.471 1523.52 Q485.471 1525.65 484.661 1527.57 Q483.874 1529.47 481.767 1532.07 Q481.189 1532.74 478.087 1535.95 Q474.985 1539.15 469.337 1544.91 Z\" fill=\"#000000\" fill-rule=\"evenodd\" fill-opacity=\"1\" /><path clip-path=\"url(#clip830)\" d=\"M931.882 1518.36 L920.077 1536.81 L931.882 1536.81 L931.882 1518.36 M930.656 1514.29 L936.535 1514.29 L936.535 1536.81 L941.466 1536.81 L941.466 1540.7 L936.535 1540.7 L936.535 1548.85 L931.882 1548.85 L931.882 1540.7 L916.281 1540.7 L916.281 1536.19 L930.656 1514.29 Z\" fill=\"#000000\" fill-rule=\"evenodd\" fill-opacity=\"1\" /><path clip-path=\"url(#clip830)\" d=\"M1383.47 1529.7 Q1380.32 1529.7 1378.47 1531.86 Q1376.64 1534.01 1376.64 1537.76 Q1376.64 1541.49 1378.47 1543.66 Q1380.32 1545.82 1383.47 1545.82 Q1386.62 1545.82 1388.44 1543.66 Q1390.3 1541.49 1390.3 1537.76 Q1390.3 1534.01 1388.44 1531.86 Q1386.62 1529.7 1383.47 1529.7 M1392.75 1515.05 L1392.75 1519.31 Q1390.99 1518.48 1389.18 1518.04 Q1387.4 1517.6 1385.64 1517.6 Q1381.01 1517.6 1378.56 1520.72 Q1376.13 1523.85 1375.78 1530.17 Q1377.15 1528.15 1379.21 1527.09 Q1381.27 1526 1383.75 1526 Q1388.95 1526 1391.96 1529.17 Q1395 1532.32 1395 1537.76 Q1395 1543.08 1391.85 1546.3 Q1388.7 1549.52 1383.47 1549.52 Q1377.47 1549.52 1374.3 1544.94 Q1371.13 1540.33 1371.13 1531.6 Q1371.13 1523.41 1375.02 1518.55 Q1378.91 1513.66 1385.46 1513.66 Q1387.22 1513.66 1389 1514.01 Q1390.81 1514.36 1392.75 1515.05 Z\" fill=\"#000000\" fill-rule=\"evenodd\" fill-opacity=\"1\" /><path clip-path=\"url(#clip830)\" d=\"M1837.25 1532.44 Q1833.92 1532.44 1832 1534.22 Q1830.1 1536 1830.1 1539.13 Q1830.1 1542.25 1832 1544.03 Q1833.92 1545.82 1837.25 1545.82 Q1840.58 1545.82 1842.51 1544.03 Q1844.43 1542.23 1844.43 1539.13 Q1844.43 1536 1842.51 1534.22 Q1840.61 1532.44 1837.25 1532.44 M1832.58 1530.45 Q1829.57 1529.7 1827.88 1527.64 Q1826.21 1525.58 1826.21 1522.62 Q1826.21 1518.48 1829.15 1516.07 Q1832.11 1513.66 1837.25 1513.66 Q1842.41 1513.66 1845.35 1516.07 Q1848.29 1518.48 1848.29 1522.62 Q1848.29 1525.58 1846.6 1527.64 Q1844.94 1529.7 1841.95 1530.45 Q1845.33 1531.23 1847.2 1533.52 Q1849.1 1535.82 1849.1 1539.13 Q1849.1 1544.15 1846.02 1546.83 Q1842.97 1549.52 1837.25 1549.52 Q1831.53 1549.52 1828.46 1546.83 Q1825.4 1544.15 1825.4 1539.13 Q1825.4 1535.82 1827.3 1533.52 Q1829.2 1531.23 1832.58 1530.45 M1830.86 1523.06 Q1830.86 1525.75 1832.53 1527.25 Q1834.22 1528.76 1837.25 1528.76 Q1840.26 1528.76 1841.95 1527.25 Q1843.66 1525.75 1843.66 1523.06 Q1843.66 1520.38 1841.95 1518.87 Q1840.26 1517.37 1837.25 1517.37 Q1834.22 1517.37 1832.53 1518.87 Q1830.86 1520.38 1830.86 1523.06 Z\" fill=\"#000000\" fill-rule=\"evenodd\" fill-opacity=\"1\" /><path clip-path=\"url(#clip830)\" d=\"M2266.13 1544.91 L2273.77 1544.91 L2273.77 1518.55 L2265.46 1520.21 L2265.46 1515.95 L2273.72 1514.29 L2278.4 1514.29 L2278.4 1544.91 L2286.04 1544.91 L2286.04 1548.85 L2266.13 1548.85 L2266.13 1544.91 Z\" fill=\"#000000\" fill-rule=\"evenodd\" fill-opacity=\"1\" /><path clip-path=\"url(#clip830)\" d=\"M2305.48 1517.37 Q2301.87 1517.37 2300.04 1520.93 Q2298.23 1524.47 2298.23 1531.6 Q2298.23 1538.71 2300.04 1542.27 Q2301.87 1545.82 2305.48 1545.82 Q2309.11 1545.82 2310.92 1542.27 Q2312.75 1538.71 2312.75 1531.6 Q2312.75 1524.47 2310.92 1520.93 Q2309.11 1517.37 2305.48 1517.37 M2305.48 1513.66 Q2311.29 1513.66 2314.35 1518.27 Q2317.42 1522.85 2317.42 1531.6 Q2317.42 1540.33 2314.35 1544.94 Q2311.29 1549.52 2305.48 1549.52 Q2299.67 1549.52 2296.59 1544.94 Q2293.54 1540.33 2293.54 1531.6 Q2293.54 1522.85 2296.59 1518.27 Q2299.67 1513.66 2305.48 1513.66 Z\" fill=\"#000000\" fill-rule=\"evenodd\" fill-opacity=\"1\" /><polyline clip-path=\"url(#clip832)\" style=\"stroke:#000000; stroke-linecap:round; stroke-linejoin:round; stroke-width:2; stroke-opacity:0.1; fill:none\" points=\"186.274,1449.04 2352.76,1449.04 \"/>\n",
       "<polyline clip-path=\"url(#clip832)\" style=\"stroke:#000000; stroke-linecap:round; stroke-linejoin:round; stroke-width:2; stroke-opacity:0.1; fill:none\" points=\"186.274,1108.39 2352.76,1108.39 \"/>\n",
       "<polyline clip-path=\"url(#clip832)\" style=\"stroke:#000000; stroke-linecap:round; stroke-linejoin:round; stroke-width:2; stroke-opacity:0.1; fill:none\" points=\"186.274,767.745 2352.76,767.745 \"/>\n",
       "<polyline clip-path=\"url(#clip832)\" style=\"stroke:#000000; stroke-linecap:round; stroke-linejoin:round; stroke-width:2; stroke-opacity:0.1; fill:none\" points=\"186.274,427.098 2352.76,427.098 \"/>\n",
       "<polyline clip-path=\"url(#clip832)\" style=\"stroke:#000000; stroke-linecap:round; stroke-linejoin:round; stroke-width:2; stroke-opacity:0.1; fill:none\" points=\"186.274,86.4496 2352.76,86.4496 \"/>\n",
       "<polyline clip-path=\"url(#clip830)\" style=\"stroke:#000000; stroke-linecap:round; stroke-linejoin:round; stroke-width:4; stroke-opacity:1; fill:none\" points=\"186.274,1486.45 186.274,47.2441 \"/>\n",
       "<polyline clip-path=\"url(#clip830)\" style=\"stroke:#000000; stroke-linecap:round; stroke-linejoin:round; stroke-width:4; stroke-opacity:1; fill:none\" points=\"186.274,1449.04 205.172,1449.04 \"/>\n",
       "<polyline clip-path=\"url(#clip830)\" style=\"stroke:#000000; stroke-linecap:round; stroke-linejoin:round; stroke-width:4; stroke-opacity:1; fill:none\" points=\"186.274,1108.39 205.172,1108.39 \"/>\n",
       "<polyline clip-path=\"url(#clip830)\" style=\"stroke:#000000; stroke-linecap:round; stroke-linejoin:round; stroke-width:4; stroke-opacity:1; fill:none\" points=\"186.274,767.745 205.172,767.745 \"/>\n",
       "<polyline clip-path=\"url(#clip830)\" style=\"stroke:#000000; stroke-linecap:round; stroke-linejoin:round; stroke-width:4; stroke-opacity:1; fill:none\" points=\"186.274,427.098 205.172,427.098 \"/>\n",
       "<polyline clip-path=\"url(#clip830)\" style=\"stroke:#000000; stroke-linecap:round; stroke-linejoin:round; stroke-width:4; stroke-opacity:1; fill:none\" points=\"186.274,86.4496 205.172,86.4496 \"/>\n",
       "<path clip-path=\"url(#clip830)\" d=\"M62.9365 1434.84 Q59.3254 1434.84 57.4967 1438.4 Q55.6912 1441.95 55.6912 1449.08 Q55.6912 1456.18 57.4967 1459.75 Q59.3254 1463.29 62.9365 1463.29 Q66.5707 1463.29 68.3763 1459.75 Q70.205 1456.18 70.205 1449.08 Q70.205 1441.95 68.3763 1438.4 Q66.5707 1434.84 62.9365 1434.84 M62.9365 1431.14 Q68.7467 1431.14 71.8022 1435.74 Q74.8809 1440.33 74.8809 1449.08 Q74.8809 1457.8 71.8022 1462.41 Q68.7467 1466.99 62.9365 1466.99 Q57.1264 1466.99 54.0477 1462.41 Q50.9921 1457.8 50.9921 1449.08 Q50.9921 1440.33 54.0477 1435.74 Q57.1264 1431.14 62.9365 1431.14 Z\" fill=\"#000000\" fill-rule=\"evenodd\" fill-opacity=\"1\" /><path clip-path=\"url(#clip830)\" d=\"M83.0984 1460.44 L87.9827 1460.44 L87.9827 1466.32 L83.0984 1466.32 L83.0984 1460.44 Z\" fill=\"#000000\" fill-rule=\"evenodd\" fill-opacity=\"1\" /><path clip-path=\"url(#clip830)\" d=\"M108.168 1434.84 Q104.557 1434.84 102.728 1438.4 Q100.922 1441.95 100.922 1449.08 Q100.922 1456.18 102.728 1459.75 Q104.557 1463.29 108.168 1463.29 Q111.802 1463.29 113.608 1459.75 Q115.436 1456.18 115.436 1449.08 Q115.436 1441.95 113.608 1438.4 Q111.802 1434.84 108.168 1434.84 M108.168 1431.14 Q113.978 1431.14 117.033 1435.74 Q120.112 1440.33 120.112 1449.08 Q120.112 1457.8 117.033 1462.41 Q113.978 1466.99 108.168 1466.99 Q102.358 1466.99 99.2789 1462.41 Q96.2234 1457.8 96.2234 1449.08 Q96.2234 1440.33 99.2789 1435.74 Q102.358 1431.14 108.168 1431.14 Z\" fill=\"#000000\" fill-rule=\"evenodd\" fill-opacity=\"1\" /><path clip-path=\"url(#clip830)\" d=\"M138.33 1434.84 Q134.719 1434.84 132.89 1438.4 Q131.084 1441.95 131.084 1449.08 Q131.084 1456.18 132.89 1459.75 Q134.719 1463.29 138.33 1463.29 Q141.964 1463.29 143.769 1459.75 Q145.598 1456.18 145.598 1449.08 Q145.598 1441.95 143.769 1438.4 Q141.964 1434.84 138.33 1434.84 M138.33 1431.14 Q144.14 1431.14 147.195 1435.74 Q150.274 1440.33 150.274 1449.08 Q150.274 1457.8 147.195 1462.41 Q144.14 1466.99 138.33 1466.99 Q132.519 1466.99 129.441 1462.41 Q126.385 1457.8 126.385 1449.08 Q126.385 1440.33 129.441 1435.74 Q132.519 1431.14 138.33 1431.14 Z\" fill=\"#000000\" fill-rule=\"evenodd\" fill-opacity=\"1\" /><path clip-path=\"url(#clip830)\" d=\"M63.9319 1094.19 Q60.3208 1094.19 58.4921 1097.76 Q56.6865 1101.3 56.6865 1108.43 Q56.6865 1115.53 58.4921 1119.1 Q60.3208 1122.64 63.9319 1122.64 Q67.5661 1122.64 69.3717 1119.1 Q71.2004 1115.53 71.2004 1108.43 Q71.2004 1101.3 69.3717 1097.76 Q67.5661 1094.19 63.9319 1094.19 M63.9319 1090.49 Q69.742 1090.49 72.7976 1095.09 Q75.8763 1099.68 75.8763 1108.43 Q75.8763 1117.15 72.7976 1121.76 Q69.742 1126.34 63.9319 1126.34 Q58.1217 1126.34 55.043 1121.76 Q51.9875 1117.15 51.9875 1108.43 Q51.9875 1099.68 55.043 1095.09 Q58.1217 1090.49 63.9319 1090.49 Z\" fill=\"#000000\" fill-rule=\"evenodd\" fill-opacity=\"1\" /><path clip-path=\"url(#clip830)\" d=\"M84.0938 1119.79 L88.978 1119.79 L88.978 1125.67 L84.0938 1125.67 L84.0938 1119.79 Z\" fill=\"#000000\" fill-rule=\"evenodd\" fill-opacity=\"1\" /><path clip-path=\"url(#clip830)\" d=\"M103.191 1121.74 L119.51 1121.74 L119.51 1125.67 L97.566 1125.67 L97.566 1121.74 Q100.228 1118.98 104.811 1114.35 Q109.418 1109.7 110.598 1108.36 Q112.844 1105.84 113.723 1104.1 Q114.626 1102.34 114.626 1100.65 Q114.626 1097.9 112.682 1096.16 Q110.76 1094.42 107.658 1094.42 Q105.459 1094.42 103.006 1095.19 Q100.575 1095.95 97.7974 1097.5 L97.7974 1092.78 Q100.621 1091.65 103.075 1091.07 Q105.529 1090.49 107.566 1090.49 Q112.936 1090.49 116.131 1093.17 Q119.325 1095.86 119.325 1100.35 Q119.325 1102.48 118.515 1104.4 Q117.728 1106.3 115.621 1108.89 Q115.043 1109.56 111.941 1112.78 Q108.839 1115.97 103.191 1121.74 Z\" fill=\"#000000\" fill-rule=\"evenodd\" fill-opacity=\"1\" /><path clip-path=\"url(#clip830)\" d=\"M129.371 1091.11 L147.728 1091.11 L147.728 1095.05 L133.654 1095.05 L133.654 1103.52 Q134.672 1103.17 135.691 1103.01 Q136.709 1102.83 137.728 1102.83 Q143.515 1102.83 146.894 1106 Q150.274 1109.17 150.274 1114.59 Q150.274 1120.16 146.802 1123.27 Q143.33 1126.34 137.01 1126.34 Q134.834 1126.34 132.566 1125.97 Q130.32 1125.6 127.913 1124.86 L127.913 1120.16 Q129.996 1121.3 132.219 1121.85 Q134.441 1122.41 136.918 1122.41 Q140.922 1122.41 143.26 1120.3 Q145.598 1118.2 145.598 1114.59 Q145.598 1110.97 143.26 1108.87 Q140.922 1106.76 136.918 1106.76 Q135.043 1106.76 133.168 1107.18 Q131.316 1107.59 129.371 1108.47 L129.371 1091.11 Z\" fill=\"#000000\" fill-rule=\"evenodd\" fill-opacity=\"1\" /><path clip-path=\"url(#clip830)\" d=\"M62.9365 753.544 Q59.3254 753.544 57.4967 757.109 Q55.6912 760.651 55.6912 767.78 Q55.6912 774.887 57.4967 778.451 Q59.3254 781.993 62.9365 781.993 Q66.5707 781.993 68.3763 778.451 Q70.205 774.887 70.205 767.78 Q70.205 760.651 68.3763 757.109 Q66.5707 753.544 62.9365 753.544 M62.9365 749.84 Q68.7467 749.84 71.8022 754.447 Q74.8809 759.03 74.8809 767.78 Q74.8809 776.507 71.8022 781.113 Q68.7467 785.697 62.9365 785.697 Q57.1264 785.697 54.0477 781.113 Q50.9921 776.507 50.9921 767.78 Q50.9921 759.03 54.0477 754.447 Q57.1264 749.84 62.9365 749.84 Z\" fill=\"#000000\" fill-rule=\"evenodd\" fill-opacity=\"1\" /><path clip-path=\"url(#clip830)\" d=\"M83.0984 779.146 L87.9827 779.146 L87.9827 785.025 L83.0984 785.025 L83.0984 779.146 Z\" fill=\"#000000\" fill-rule=\"evenodd\" fill-opacity=\"1\" /><path clip-path=\"url(#clip830)\" d=\"M98.2141 750.465 L116.57 750.465 L116.57 754.401 L102.496 754.401 L102.496 762.873 Q103.515 762.526 104.534 762.364 Q105.552 762.178 106.571 762.178 Q112.358 762.178 115.737 765.35 Q119.117 768.521 119.117 773.938 Q119.117 779.516 115.645 782.618 Q112.172 785.697 105.853 785.697 Q103.677 785.697 101.409 785.326 Q99.1632 784.956 96.7558 784.215 L96.7558 779.516 Q98.8391 780.651 101.061 781.206 Q103.284 781.762 105.76 781.762 Q109.765 781.762 112.103 779.655 Q114.441 777.549 114.441 773.938 Q114.441 770.327 112.103 768.22 Q109.765 766.114 105.76 766.114 Q103.885 766.114 102.01 766.53 Q100.159 766.947 98.2141 767.827 L98.2141 750.465 Z\" fill=\"#000000\" fill-rule=\"evenodd\" fill-opacity=\"1\" /><path clip-path=\"url(#clip830)\" d=\"M138.33 753.544 Q134.719 753.544 132.89 757.109 Q131.084 760.651 131.084 767.78 Q131.084 774.887 132.89 778.451 Q134.719 781.993 138.33 781.993 Q141.964 781.993 143.769 778.451 Q145.598 774.887 145.598 767.78 Q145.598 760.651 143.769 757.109 Q141.964 753.544 138.33 753.544 M138.33 749.84 Q144.14 749.84 147.195 754.447 Q150.274 759.03 150.274 767.78 Q150.274 776.507 147.195 781.113 Q144.14 785.697 138.33 785.697 Q132.519 785.697 129.441 781.113 Q126.385 776.507 126.385 767.78 Q126.385 759.03 129.441 754.447 Q132.519 749.84 138.33 749.84 Z\" fill=\"#000000\" fill-rule=\"evenodd\" fill-opacity=\"1\" /><path clip-path=\"url(#clip830)\" d=\"M63.9319 412.896 Q60.3208 412.896 58.4921 416.461 Q56.6865 420.003 56.6865 427.132 Q56.6865 434.239 58.4921 437.804 Q60.3208 441.345 63.9319 441.345 Q67.5661 441.345 69.3717 437.804 Q71.2004 434.239 71.2004 427.132 Q71.2004 420.003 69.3717 416.461 Q67.5661 412.896 63.9319 412.896 M63.9319 409.193 Q69.742 409.193 72.7976 413.799 Q75.8763 418.382 75.8763 427.132 Q75.8763 435.859 72.7976 440.466 Q69.742 445.049 63.9319 445.049 Q58.1217 445.049 55.043 440.466 Q51.9875 435.859 51.9875 427.132 Q51.9875 418.382 55.043 413.799 Q58.1217 409.193 63.9319 409.193 Z\" fill=\"#000000\" fill-rule=\"evenodd\" fill-opacity=\"1\" /><path clip-path=\"url(#clip830)\" d=\"M84.0938 438.498 L88.978 438.498 L88.978 444.378 L84.0938 444.378 L84.0938 438.498 Z\" fill=\"#000000\" fill-rule=\"evenodd\" fill-opacity=\"1\" /><path clip-path=\"url(#clip830)\" d=\"M97.9826 409.818 L120.205 409.818 L120.205 411.808 L107.658 444.378 L102.774 444.378 L114.58 413.753 L97.9826 413.753 L97.9826 409.818 Z\" fill=\"#000000\" fill-rule=\"evenodd\" fill-opacity=\"1\" /><path clip-path=\"url(#clip830)\" d=\"M129.371 409.818 L147.728 409.818 L147.728 413.753 L133.654 413.753 L133.654 422.225 Q134.672 421.878 135.691 421.716 Q136.709 421.53 137.728 421.53 Q143.515 421.53 146.894 424.702 Q150.274 427.873 150.274 433.29 Q150.274 438.868 146.802 441.97 Q143.33 445.049 137.01 445.049 Q134.834 445.049 132.566 444.678 Q130.32 444.308 127.913 443.567 L127.913 438.868 Q129.996 440.003 132.219 440.558 Q134.441 441.114 136.918 441.114 Q140.922 441.114 143.26 439.007 Q145.598 436.901 145.598 433.29 Q145.598 429.679 143.26 427.572 Q140.922 425.466 136.918 425.466 Q135.043 425.466 133.168 425.882 Q131.316 426.299 129.371 427.179 L129.371 409.818 Z\" fill=\"#000000\" fill-rule=\"evenodd\" fill-opacity=\"1\" /><path clip-path=\"url(#clip830)\" d=\"M53.7467 99.7944 L61.3856 99.7944 L61.3856 73.4288 L53.0754 75.0955 L53.0754 70.8363 L61.3393 69.1696 L66.0152 69.1696 L66.0152 99.7944 L73.654 99.7944 L73.654 103.73 L53.7467 103.73 L53.7467 99.7944 Z\" fill=\"#000000\" fill-rule=\"evenodd\" fill-opacity=\"1\" /><path clip-path=\"url(#clip830)\" d=\"M83.0984 97.85 L87.9827 97.85 L87.9827 103.73 L83.0984 103.73 L83.0984 97.85 Z\" fill=\"#000000\" fill-rule=\"evenodd\" fill-opacity=\"1\" /><path clip-path=\"url(#clip830)\" d=\"M108.168 72.2483 Q104.557 72.2483 102.728 75.8131 Q100.922 79.3547 100.922 86.4843 Q100.922 93.5908 102.728 97.1556 Q104.557 100.697 108.168 100.697 Q111.802 100.697 113.608 97.1556 Q115.436 93.5908 115.436 86.4843 Q115.436 79.3547 113.608 75.8131 Q111.802 72.2483 108.168 72.2483 M108.168 68.5446 Q113.978 68.5446 117.033 73.1511 Q120.112 77.7344 120.112 86.4843 Q120.112 95.2111 117.033 99.8176 Q113.978 104.401 108.168 104.401 Q102.358 104.401 99.2789 99.8176 Q96.2234 95.2111 96.2234 86.4843 Q96.2234 77.7344 99.2789 73.1511 Q102.358 68.5446 108.168 68.5446 Z\" fill=\"#000000\" fill-rule=\"evenodd\" fill-opacity=\"1\" /><path clip-path=\"url(#clip830)\" d=\"M138.33 72.2483 Q134.719 72.2483 132.89 75.8131 Q131.084 79.3547 131.084 86.4843 Q131.084 93.5908 132.89 97.1556 Q134.719 100.697 138.33 100.697 Q141.964 100.697 143.769 97.1556 Q145.598 93.5908 145.598 86.4843 Q145.598 79.3547 143.769 75.8131 Q141.964 72.2483 138.33 72.2483 M138.33 68.5446 Q144.14 68.5446 147.195 73.1511 Q150.274 77.7344 150.274 86.4843 Q150.274 95.2111 147.195 99.8176 Q144.14 104.401 138.33 104.401 Q132.519 104.401 129.441 99.8176 Q126.385 95.2111 126.385 86.4843 Q126.385 77.7344 129.441 73.1511 Q132.519 68.5446 138.33 68.5446 Z\" fill=\"#000000\" fill-rule=\"evenodd\" fill-opacity=\"1\" /><polyline clip-path=\"url(#clip832)\" style=\"stroke:#009af9; stroke-linecap:round; stroke-linejoin:round; stroke-width:4; stroke-opacity:1; fill:none\" points=\"247.59,1212.79 474.684,426.071 701.779,628.028 928.873,172.97 1155.97,87.9763 1383.06,164.728 1610.16,1242.42 1837.25,560.167 2064.35,1137.32 2291.44,966.2 \"/>\n",
       "<polyline clip-path=\"url(#clip832)\" style=\"stroke:#e26f46; stroke-linecap:round; stroke-linejoin:round; stroke-width:4; stroke-opacity:1; fill:none\" points=\"247.59,719.57 474.684,106.135 701.779,1237.56 928.873,1219.25 1155.97,222.452 1383.06,554.602 1610.16,293.561 1837.25,460.255 2064.35,227.327 2291.44,963.946 \"/>\n",
       "<polyline clip-path=\"url(#clip832)\" style=\"stroke:#3da44d; stroke-linecap:round; stroke-linejoin:round; stroke-width:4; stroke-opacity:1; fill:none\" points=\"247.59,339.451 474.684,1307.58 701.779,1136.45 928.873,1326.41 1155.97,1445.72 1383.06,880.007 1610.16,613.204 1837.25,113.418 2064.35,143.611 2291.44,135.171 \"/>\n",
       "<path clip-path=\"url(#clip830)\" d=\"M2040.7 1438.47 L2280.54 1438.47 L2280.54 1231.11 L2040.7 1231.11  Z\" fill=\"#ffffff\" fill-rule=\"evenodd\" fill-opacity=\"1\"/>\n",
       "<polyline clip-path=\"url(#clip830)\" style=\"stroke:#000000; stroke-linecap:round; stroke-linejoin:round; stroke-width:4; stroke-opacity:1; fill:none\" points=\"2040.7,1438.47 2280.54,1438.47 2280.54,1231.11 2040.7,1231.11 2040.7,1438.47 \"/>\n",
       "<polyline clip-path=\"url(#clip830)\" style=\"stroke:#009af9; stroke-linecap:round; stroke-linejoin:round; stroke-width:4; stroke-opacity:1; fill:none\" points=\"2064.77,1282.95 2209.2,1282.95 \"/>\n",
       "<path clip-path=\"url(#clip830)\" d=\"M2246.68 1287.2 Q2241.51 1287.2 2239.52 1288.38 Q2237.53 1289.56 2237.53 1292.41 Q2237.53 1294.68 2239.01 1296.02 Q2240.52 1297.34 2243.09 1297.34 Q2246.63 1297.34 2248.76 1294.84 Q2250.91 1292.32 2250.91 1288.15 L2250.91 1287.2 L2246.68 1287.2 M2255.17 1285.44 L2255.17 1300.23 L2250.91 1300.23 L2250.91 1296.3 Q2249.45 1298.66 2247.28 1299.79 Q2245.1 1300.91 2241.95 1300.91 Q2237.97 1300.91 2235.61 1298.68 Q2233.27 1296.44 2233.27 1292.69 Q2233.27 1288.31 2236.19 1286.09 Q2239.13 1283.87 2244.94 1283.87 L2250.91 1283.87 L2250.91 1283.45 Q2250.91 1280.51 2248.97 1278.92 Q2247.05 1277.29 2243.55 1277.29 Q2241.33 1277.29 2239.22 1277.83 Q2237.12 1278.36 2235.17 1279.42 L2235.17 1275.49 Q2237.51 1274.59 2239.71 1274.15 Q2241.91 1273.68 2243.99 1273.68 Q2249.62 1273.68 2252.39 1276.6 Q2255.17 1279.52 2255.17 1285.44 Z\" fill=\"#000000\" fill-rule=\"evenodd\" fill-opacity=\"1\" /><polyline clip-path=\"url(#clip830)\" style=\"stroke:#e26f46; stroke-linecap:round; stroke-linejoin:round; stroke-width:4; stroke-opacity:1; fill:none\" points=\"2064.77,1334.79 2209.2,1334.79 \"/>\n",
       "<path clip-path=\"url(#clip830)\" d=\"M2252.05 1339.13 Q2252.05 1334.44 2250.1 1331.77 Q2248.18 1329.09 2244.8 1329.09 Q2241.42 1329.09 2239.48 1331.77 Q2237.56 1334.44 2237.56 1339.13 Q2237.56 1343.83 2239.48 1346.52 Q2241.42 1349.18 2244.8 1349.18 Q2248.18 1349.18 2250.1 1346.52 Q2252.05 1343.83 2252.05 1339.13 M2237.56 1330.08 Q2238.9 1327.77 2240.94 1326.66 Q2243 1325.52 2245.84 1325.52 Q2250.57 1325.52 2253.5 1329.27 Q2256.47 1333.02 2256.47 1339.13 Q2256.47 1345.25 2253.5 1349 Q2250.57 1352.75 2245.84 1352.75 Q2243 1352.75 2240.94 1351.63 Q2238.9 1350.5 2237.56 1348.19 L2237.56 1352.07 L2233.27 1352.07 L2233.27 1316.06 L2237.56 1316.06 L2237.56 1330.08 Z\" fill=\"#000000\" fill-rule=\"evenodd\" fill-opacity=\"1\" /><polyline clip-path=\"url(#clip830)\" style=\"stroke:#3da44d; stroke-linecap:round; stroke-linejoin:round; stroke-width:4; stroke-opacity:1; fill:none\" points=\"2064.77,1386.63 2209.2,1386.63 \"/>\n",
       "<path clip-path=\"url(#clip830)\" d=\"M2253.78 1378.98 L2253.78 1382.97 Q2251.98 1381.97 2250.15 1381.48 Q2248.34 1380.97 2246.49 1380.97 Q2242.35 1380.97 2240.06 1383.61 Q2237.76 1386.23 2237.76 1390.97 Q2237.76 1395.72 2240.06 1398.36 Q2242.35 1400.97 2246.49 1400.97 Q2248.34 1400.97 2250.15 1400.49 Q2251.98 1399.98 2253.78 1398.98 L2253.78 1402.92 Q2252 1403.75 2250.08 1404.17 Q2248.18 1404.59 2246.03 1404.59 Q2240.17 1404.59 2236.72 1400.91 Q2233.27 1397.22 2233.27 1390.97 Q2233.27 1384.63 2236.75 1381 Q2240.24 1377.36 2246.31 1377.36 Q2248.27 1377.36 2250.15 1377.78 Q2252.02 1378.17 2253.78 1378.98 Z\" fill=\"#000000\" fill-rule=\"evenodd\" fill-opacity=\"1\" /></svg>\n"
      ]
     },
     "metadata": {},
     "output_type": "display_data"
    }
   ],
   "source": [
    "using Plots\n",
    "plot(1:10, rand(10, 3), label = [\"a\" \"b\" \"c\"])"
   ]
  },
  {
   "attachments": {},
   "cell_type": "markdown",
   "metadata": {},
   "source": [
    "- `import` vs `using`\n",
    "    - `import` only imports the module\n",
    "    - `using` imports the module and all its exported functions"
   ]
  },
  {
   "attachments": {},
   "cell_type": "markdown",
   "metadata": {},
   "source": [
    "## Using macros"
   ]
  },
  {
   "cell_type": "code",
   "execution_count": 26,
   "metadata": {},
   "outputs": [
    {
     "name": "stdout",
     "output_type": "stream",
     "text": [
      "  0.000001 seconds\n",
      "  0.000000 seconds\n"
     ]
    },
    {
     "data": {
      "text/plain": [
       "3"
      ]
     },
     "metadata": {},
     "output_type": "display_data"
    }
   ],
   "source": [
    "@time 1 + 2\n",
    "@time(1 + 2)"
   ]
  },
  {
   "cell_type": "code",
   "execution_count": 27,
   "metadata": {},
   "outputs": [
    {
     "ename": "AssertionError",
     "evalue": "AssertionError: 1 is not equal to 2",
     "output_type": "error",
     "traceback": [
      "AssertionError: 1 is not equal to 2\n",
      "\n",
      "Stacktrace:\n",
      " [1] top-level scope\n",
      "   @ /mnt/w/1t-nvme/projects/Talk-Julia/julia/04-support-for-scaling-projects.ipynb:1"
     ]
    }
   ],
   "source": [
    "@assert 1 == 2 \"1 is not equal to 2\""
   ]
  },
  {
   "cell_type": "code",
   "execution_count": 28,
   "metadata": {},
   "outputs": [
    {
     "data": {
      "text/plain": [
       ":(if 1 == 2\n",
       "      nothing\n",
       "  else\n",
       "      Base.throw(Base.AssertionError(\"1 is not equal to 2\"))\n",
       "  end)"
      ]
     },
     "metadata": {},
     "output_type": "display_data"
    }
   ],
   "source": [
    "@macroexpand @assert 1 == 2 \"1 is not equal to 2\""
   ]
  },
  {
   "cell_type": "code",
   "execution_count": 31,
   "metadata": {},
   "outputs": [
    {
     "data": {
      "text/plain": [
       "BenchmarkTools.Trial: 10000 samples with 1 evaluation.\n",
       " Range \u001b[90m(\u001b[39m\u001b[36m\u001b[1mmin\u001b[22m\u001b[39m … \u001b[35mmax\u001b[39m\u001b[90m):  \u001b[39m\u001b[36m\u001b[1m90.180 μs\u001b[22m\u001b[39m … \u001b[35m345.853 μs\u001b[39m  \u001b[90m┊\u001b[39m GC \u001b[90m(\u001b[39mmin … max\u001b[90m): \u001b[39m0.00% … 0.00%\n",
       " Time  \u001b[90m(\u001b[39m\u001b[34m\u001b[1mmedian\u001b[22m\u001b[39m\u001b[90m):     \u001b[39m\u001b[34m\u001b[1m92.381 μs               \u001b[22m\u001b[39m\u001b[90m┊\u001b[39m GC \u001b[90m(\u001b[39mmedian\u001b[90m):    \u001b[39m0.00%\n",
       " Time  \u001b[90m(\u001b[39m\u001b[32m\u001b[1mmean\u001b[22m\u001b[39m ± \u001b[32mσ\u001b[39m\u001b[90m):   \u001b[39m\u001b[32m\u001b[1m92.908 μs\u001b[22m\u001b[39m ± \u001b[32m  3.144 μs\u001b[39m  \u001b[90m┊\u001b[39m GC \u001b[90m(\u001b[39mmean ± σ\u001b[90m):  \u001b[39m0.00% ± 0.00%\n",
       "\n",
       "  \u001b[39m \u001b[39m \u001b[39m \u001b[39m \u001b[39m▁\u001b[39m▁\u001b[39m▃\u001b[39m▅\u001b[39m▇\u001b[39m█\u001b[39m█\u001b[39m█\u001b[34m█\u001b[39m\u001b[39m▇\u001b[39m▆\u001b[32m▆\u001b[39m\u001b[39m▅\u001b[39m▄\u001b[39m▂\u001b[39m \u001b[39m \u001b[39m \u001b[39m \u001b[39m \u001b[39m \u001b[39m \u001b[39m \u001b[39m▁\u001b[39m▂\u001b[39m▁\u001b[39m▂\u001b[39m▂\u001b[39m▁\u001b[39m▁\u001b[39m▁\u001b[39m▁\u001b[39m▁\u001b[39m \u001b[39m \u001b[39m \u001b[39m \u001b[39m \u001b[39m \u001b[39m \u001b[39m \u001b[39m \u001b[39m \u001b[39m \u001b[39m \u001b[39m \u001b[39m \u001b[39m \u001b[39m \u001b[39m \u001b[39m \u001b[39m \u001b[39m \u001b[39m \u001b[39m \u001b[39m \u001b[39m \u001b[39m▃\n",
       "  \u001b[39m▄\u001b[39m▄\u001b[39m▆\u001b[39m█\u001b[39m█\u001b[39m█\u001b[39m█\u001b[39m█\u001b[39m█\u001b[39m█\u001b[39m█\u001b[39m█\u001b[34m█\u001b[39m\u001b[39m█\u001b[39m█\u001b[32m█\u001b[39m\u001b[39m█\u001b[39m█\u001b[39m█\u001b[39m█\u001b[39m▆\u001b[39m▆\u001b[39m▆\u001b[39m▅\u001b[39m▆\u001b[39m▇\u001b[39m█\u001b[39m█\u001b[39m█\u001b[39m█\u001b[39m█\u001b[39m█\u001b[39m█\u001b[39m█\u001b[39m█\u001b[39m█\u001b[39m█\u001b[39m█\u001b[39m█\u001b[39m█\u001b[39m▇\u001b[39m█\u001b[39m█\u001b[39m█\u001b[39m▇\u001b[39m▇\u001b[39m▇\u001b[39m▆\u001b[39m▇\u001b[39m▆\u001b[39m▆\u001b[39m▅\u001b[39m▄\u001b[39m▅\u001b[39m▅\u001b[39m▅\u001b[39m▅\u001b[39m▆\u001b[39m▇\u001b[39m▆\u001b[39m \u001b[39m█\n",
       "  90.2 μs\u001b[90m       \u001b[39m\u001b[90mHistogram: \u001b[39m\u001b[90m\u001b[1mlog(\u001b[22m\u001b[39m\u001b[90mfrequency\u001b[39m\u001b[90m\u001b[1m)\u001b[22m\u001b[39m\u001b[90m by time\u001b[39m       101 μs \u001b[0m\u001b[1m<\u001b[22m\n",
       "\n",
       " Memory estimate\u001b[90m: \u001b[39m\u001b[33m16 bytes\u001b[39m, allocs estimate\u001b[90m: \u001b[39m\u001b[33m1\u001b[39m."
      ]
     },
     "metadata": {},
     "output_type": "display_data"
    }
   ],
   "source": [
    "using BenchmarkTools\n",
    "x = rand(10^6)\n",
    "@benchmark mean(x)"
   ]
  },
  {
   "attachments": {},
   "cell_type": "markdown",
   "metadata": {},
   "source": [
    "## Summary\n",
    "\n",
    "- types is hierarchical, and form a tree\n",
    "- single function can have multiple methods\n",
    "- `module` is a way to define separate namespaces\n",
    "    - usually to create a package\n",
    "- Macros allow you to transform code into other code before it is executed\n",
    "    - see [julia docs](https://docs.julialang.org/en/v1/manual/metaprogramming/#man-macros)\n",
    "- Julia is batteries included, or many packages are available\n"
   ]
  }
 ],
 "metadata": {
  "kernelspec": {
   "display_name": "Julia 1.8.5",
   "language": "julia",
   "name": "julia-1.8"
  },
  "language_info": {
   "file_extension": ".jl",
   "mimetype": "application/julia",
   "name": "julia",
   "version": "1.8.5"
  },
  "orig_nbformat": 4,
  "vscode": {
   "interpreter": {
    "hash": "e7370f93d1d0cde622a1f8e1c04877d8463912d04d973331ad4851f04de6915a"
   }
  }
 },
 "nbformat": 4,
 "nbformat_minor": 2
}
