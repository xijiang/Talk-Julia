{
 "cells": [
  {
   "attachments": {},
   "cell_type": "markdown",
   "metadata": {},
   "source": [
    "# Essential Julia skills\n",
    "\n",
    "- Targets\n",
    "    - Understanding values and variables\n",
    "    - Defining loops, conditional expressions, and functions\n",
    "    - Variable scoping rules in Julia\n",
    "- Example\n",
    "    - Mrode example 3.1\n",
    "    - Construct a fixed effect matrix on sex"
   ]
  },
  {
   "attachments": {},
   "cell_type": "markdown",
   "metadata": {},
   "source": [
    "## Representing values\n",
    "A *value*/Object is a representation of an entity that is stored in a computer’s memory and can be manipulated by a Julia program."
   ]
  },
  {
   "cell_type": "code",
   "execution_count": 5,
   "metadata": {},
   "outputs": [
    {
     "data": {
      "text/plain": [
       "1"
      ]
     },
     "execution_count": 5,
     "metadata": {},
     "output_type": "execute_result"
    }
   ],
   "source": [
    "1"
   ]
  },
  {
   "cell_type": "code",
   "execution_count": 6,
   "metadata": {},
   "outputs": [
    {
     "data": {
      "text/plain": [
       "true"
      ]
     },
     "execution_count": 6,
     "metadata": {},
     "output_type": "execute_result"
    }
   ],
   "source": [
    "true"
   ]
  },
  {
   "cell_type": "code",
   "execution_count": 7,
   "metadata": {},
   "outputs": [
    {
     "data": {
      "text/plain": [
       "\"Hello World\""
      ]
     },
     "execution_count": 7,
     "metadata": {},
     "output_type": "execute_result"
    }
   ],
   "source": [
    "\"Hello World\""
   ]
  },
  {
   "cell_type": "code",
   "execution_count": 8,
   "metadata": {},
   "outputs": [
    {
     "data": {
      "text/plain": [
       "3-element Vector{Int64}:\n",
       " 1\n",
       " 2\n",
       " 3"
      ]
     },
     "execution_count": 8,
     "metadata": {},
     "output_type": "execute_result"
    }
   ],
   "source": [
    "[1, 2, 3]"
   ]
  },
  {
   "attachments": {},
   "cell_type": "markdown",
   "metadata": {},
   "source": [
    "Type is an extremely important property of a value:"
   ]
  },
  {
   "cell_type": "code",
   "execution_count": 14,
   "metadata": {},
   "outputs": [
    {
     "name": "stdout",
     "output_type": "stream",
     "text": [
      "typeof(1) = Int64\n",
      "typeof(true) = Bool\n",
      "typeof(\"Hello World\") = String\n",
      "typeof([1, 2, 3]) = Vector{Int64}\n"
     ]
    }
   ],
   "source": [
    "@show typeof(1)\n",
    "@show typeof(true)\n",
    "@show typeof(\"Hello World\")\n",
    "@show typeof([1, 2, 3]);"
   ]
  },
  {
   "cell_type": "code",
   "execution_count": 15,
   "metadata": {},
   "outputs": [
    {
     "name": "stdout",
     "output_type": "stream",
     "text": [
      "bitstring(1) = \"0000000000000000000000000000000000000000000000000000000000000001\"\n",
      "bitstring(1.0) = \"0011111111110000000000000000000000000000000000000000000000000000\"\n",
      "bitstring(Int8(1)) = \"00000001\"\n"
     ]
    }
   ],
   "source": [
    "# show exact memory layout of a value\n",
    "@show bitstring(1)\n",
    "@show bitstring(1.0)\n",
    "@show bitstring(Int8(1));"
   ]
  },
  {
   "cell_type": "code",
   "execution_count": 16,
   "metadata": {},
   "outputs": [
    {
     "name": "stdout",
     "output_type": "stream",
     "text": [
      "1 isa Int64 = true\n",
      "[1, 2, 3] isa Vector{Int} = true\n"
     ]
    }
   ],
   "source": [
    "# to judge if a value is of some type, use isa\n",
    "@show 1 isa Int64\n",
    "@show [1, 2, 3] isa Vector{Int};"
   ]
  },
  {
   "attachments": {},
   "cell_type": "markdown",
   "metadata": {},
   "source": [
    "## Defining variables\n",
    "\n",
    "A *variable* is a name that is bound to a value."
   ]
  },
  {
   "cell_type": "code",
   "execution_count": 19,
   "metadata": {},
   "outputs": [
    {
     "name": "stdout",
     "output_type": "stream",
     "text": [
      "x = 1 = 1\n",
      "y = [1, 2, 3] = [1, 2, 3]\n"
     ]
    }
   ],
   "source": [
    "@show x = 1\n",
    "@show y = [1, 2, 3];"
   ]
  },
  {
   "cell_type": "code",
   "execution_count": 20,
   "metadata": {},
   "outputs": [
    {
     "name": "stdout",
     "output_type": "stream",
     "text": [
      "x = 1\n",
      "typeof(x) = Int64\n",
      "x = 1.0\n",
      "typeof(x) = Float64\n"
     ]
    }
   ],
   "source": [
    "# Operator '=' only binds values to variables.\n",
    "x = 1\n",
    "@show x\n",
    "@show typeof(x)\n",
    "x = 1.0\n",
    "@show x\n",
    "@show typeof(x);"
   ]
  },
  {
   "cell_type": "code",
   "execution_count": 22,
   "metadata": {},
   "outputs": [
    {
     "name": "stdout",
     "output_type": "stream",
     "text": [
      "x = [1, 2]\n",
      "x = [100, 2]\n"
     ]
    }
   ],
   "source": [
    "x = [1, 2]\n",
    "y = x\n",
    "@show x\n",
    "y[1] = 100\n",
    "@show x;"
   ]
  },
  {
   "cell_type": "code",
   "execution_count": 23,
   "metadata": {},
   "outputs": [
    {
     "name": "stdout",
     "output_type": "stream",
     "text": [
      "x = [1, 2]\n",
      "x = [1, 2]\n"
     ]
    }
   ],
   "source": [
    "x = [1, 2]\n",
    "y = copy(x)\n",
    "@show x\n",
    "y[1] = 100\n",
    "@show x;"
   ]
  },
  {
   "cell_type": "code",
   "execution_count": 24,
   "metadata": {},
   "outputs": [
    {
     "name": "stdout",
     "output_type": "stream",
     "text": [
      "x = 1\n",
      "x = 1\n"
     ]
    }
   ],
   "source": [
    "x = 1\n",
    "y = x\n",
    "@show x\n",
    "y = 100\n",
    "@show x;"
   ]
  },
  {
   "cell_type": "code",
   "execution_count": 25,
   "metadata": {},
   "outputs": [
    {
     "name": "stdout",
     "output_type": "stream",
     "text": [
      "π = π\n",
      "🐇 = 2023\n",
      "x₁ = 2\n",
      "ε = 1.0e-10\n"
     ]
    }
   ],
   "source": [
    "# UTF-8 is the default encoding of Julia strings\n",
    "# UTF-8 variable names are allowed\n",
    "@show π\n",
    "🐇 = 2023\n",
    "@show 🐇\n",
    "x₁ = 2\n",
    "@show x₁\n",
    "ε = 1e-10\n",
    "@show ε;"
   ]
  },
  {
   "attachments": {},
   "cell_type": "markdown",
   "metadata": {},
   "source": [
    "## Control flow constructs\n",
    "\n",
    "- Conditional evaluation\n",
    "- Loops\n",
    "- Compound expressions"
   ]
  },
  {
   "attachments": {},
   "cell_type": "markdown",
   "metadata": {},
   "source": [
    "### Conditional evaluation\n",
    "\n",
    "`if-elseif-else-end` syntax"
   ]
  },
  {
   "cell_type": "code",
   "execution_count": 26,
   "metadata": {},
   "outputs": [
    {
     "name": "stdout",
     "output_type": "stream",
     "text": [
      "x is negative\n"
     ]
    }
   ],
   "source": [
    "x = -7\n",
    "if x > 0\n",
    "    println(\"x is positive\")\n",
    "elseif x < 0\n",
    "    println(\"x is negative\")\n",
    "elseif x == 0\n",
    "    println(\"x is zero\")\n",
    "else\n",
    "    println(\"x is not a number\")\n",
    "end;"
   ]
  },
  {
   "cell_type": "code",
   "execution_count": 27,
   "metadata": {},
   "outputs": [
    {
     "name": "stdout",
     "output_type": "stream",
     "text": [
      "NaN > 0 = false\n",
      "NaN < 0 = false\n",
      "NaN != 0 = true\n",
      "NaN == NaN = false\n",
      "NaN >= NaN = false\n",
      "NaN <= NaN = false\n",
      "NaN != NaN = true\n"
     ]
    }
   ],
   "source": [
    "# according IEEE 754\n",
    "@show NaN > 0\n",
    "@show NaN < 0\n",
    "@show NaN != 0\n",
    "@show NaN == NaN\n",
    "@show NaN >= NaN\n",
    "@show NaN <= NaN\n",
    "@show NaN != NaN;"
   ]
  },
  {
   "cell_type": "code",
   "execution_count": 28,
   "metadata": {},
   "outputs": [
    {
     "name": "stdout",
     "output_type": "stream",
     "text": [
      "0.1 + 0.2 == 0.3 = false\n",
      "0.1 + 0.2 ≈ 0.3 = true\n"
     ]
    }
   ],
   "source": [
    "# Be careful with floating point numbers\n",
    "@show 0.1 + 0.2 == 0.3\n",
    "@show 0.1 + 0.2 ≈ 0.3;"
   ]
  },
  {
   "cell_type": "code",
   "execution_count": 29,
   "metadata": {},
   "outputs": [
    {
     "name": "stdout",
     "output_type": "stream",
     "text": [
      "x > 0 && x < 10 = false\n",
      "x < 0 || log(x) < 10 = true\n",
      "-10 < x < 10 = true\n"
     ]
    }
   ],
   "source": [
    "# Combining several logical conditions\n",
    "x = -7\n",
    "@show x > 0 && x < 10\n",
    "@show x < 0 || log(x) < 10  # short circuit !!!\n",
    "@show -10 < x < 10;"
   ]
  },
  {
   "cell_type": "code",
   "execution_count": 30,
   "metadata": {},
   "outputs": [
    {
     "name": "stdout",
     "output_type": "stream",
     "text": [
      "-7\n"
     ]
    }
   ],
   "source": [
    "# Short-circuit evaluation\n",
    "x > 0 && println(x)\n",
    "# equivalent to\n",
    "if x > 0\n",
    "    println(x)\n",
    "end\n",
    "x > 0 || println(x)\n",
    "iseven(x) && println(\"x is even\");"
   ]
  },
  {
   "cell_type": "code",
   "execution_count": 31,
   "metadata": {},
   "outputs": [
    {
     "name": "stdout",
     "output_type": "stream",
     "text": [
      "x is positive\n"
     ]
    }
   ],
   "source": [
    "# Ternary operator\n",
    "x = 1\n",
    "x > 0 ? println(\"x is positive\") : println(\"x is negative\");"
   ]
  },
  {
   "attachments": {},
   "cell_type": "markdown",
   "metadata": {},
   "source": [
    "### Loops\n",
    "- `for-end` syntax\n",
    "- `while-end` syntax"
   ]
  },
  {
   "cell_type": "code",
   "execution_count": 32,
   "metadata": {},
   "outputs": [
    {
     "name": "stdout",
     "output_type": "stream",
     "text": [
      "1 is odd\n",
      "2 is even\n",
      "3 is odd\n"
     ]
    }
   ],
   "source": [
    "for i in [1, 2, 3]\n",
    "    println(i, \" is \", isodd(i) ? \"odd\" : \"even\")\n",
    "end"
   ]
  },
  {
   "cell_type": "code",
   "execution_count": 33,
   "metadata": {},
   "outputs": [
    {
     "name": "stdout",
     "output_type": "stream",
     "text": [
      "1 is odd\n",
      "2 is even\n",
      "3 is odd\n"
     ]
    }
   ],
   "source": [
    "i = 1\n",
    "while i < 4\n",
    "    println(i, \" is \", isodd(i) ? \"odd\" : \"even\")\n",
    "    i += 1 # global?\n",
    "end"
   ]
  },
  {
   "attachments": {},
   "cell_type": "markdown",
   "metadata": {},
   "source": [
    "### Compound expressions\n",
    "\n",
    "- `begin-end` syntax"
   ]
  },
  {
   "cell_type": "code",
   "execution_count": 34,
   "metadata": {},
   "outputs": [
    {
     "name": "stdout",
     "output_type": "stream",
     "text": [
      "-7\n",
      "-6\n"
     ]
    },
    {
     "data": {
      "text/plain": [
       "-12"
      ]
     },
     "execution_count": 34,
     "metadata": {},
     "output_type": "execute_result"
    }
   ],
   "source": [
    "x = -7\n",
    "x < 0 && begin\n",
    "    println(x)\n",
    "    x += 1\n",
    "    println(x)\n",
    "    2x\n",
    "end"
   ]
  },
  {
   "attachments": {},
   "cell_type": "markdown",
   "metadata": {},
   "source": [
    "### Task\n",
    "Construct an incidence matrix for the fixed effects (Sex) of Mrode example 3.1, where\n",
    "\n",
    "- $\\sigma_a^2 = 20$\n",
    "- $\\sigma_e^2 = 40$\n",
    "- $\\lambda = \\frac{\\sigma_e^2}{\\sigma_a^2}$\n",
    "\n",
    "$$y_{ij} = p_i + a_j + e_{ij}$$\n",
    "\n",
    "Data is in file `mrode-3-1.csv`, as below:\n",
    "\n",
    "```plaintext\n",
    "# Example 3.1, pp 37, Mrode\n",
    "# Linear Models for the Prediction of Animal Breeding Values\n",
    "# 3ed, 2014, CABI\n",
    "Calves,Sex,Sire,Dam,WWG_kg\n",
    "4,Male,1,Unknown,4.5\n",
    "5,Female,3,2,2.9\n",
    "6,Female,1,2,3.9\n",
    "7,Male,4,5,3.5\n",
    "8,Male,3,6,5.0\n",
    "```"
   ]
  },
  {
   "cell_type": "code",
   "execution_count": 39,
   "metadata": {},
   "outputs": [
    {
     "data": {
      "text/html": [
       "<div><div style = \"float: left;\"><span>5×5 DataFrame</span></div><div style = \"clear: both;\"></div></div><div class = \"data-frame\" style = \"overflow-x: scroll;\"><table class = \"data-frame\" style = \"margin-bottom: 6px;\"><thead><tr class = \"header\"><th class = \"rowNumber\" style = \"font-weight: bold; text-align: right;\">Row</th><th style = \"text-align: left;\">Calves</th><th style = \"text-align: left;\">Sex</th><th style = \"text-align: left;\">Sire</th><th style = \"text-align: left;\">Dam</th><th style = \"text-align: left;\">WWG_kg</th></tr><tr class = \"subheader headerLastRow\"><th class = \"rowNumber\" style = \"font-weight: bold; text-align: right;\"></th><th title = \"Int64\" style = \"text-align: left;\">Int64</th><th title = \"String7\" style = \"text-align: left;\">String7</th><th title = \"Int64\" style = \"text-align: left;\">Int64</th><th title = \"Union{Missing, Int64}\" style = \"text-align: left;\">Int64?</th><th title = \"Float64\" style = \"text-align: left;\">Float64</th></tr></thead><tbody><tr><td class = \"rowNumber\" style = \"font-weight: bold; text-align: right;\">1</td><td style = \"text-align: right;\">4</td><td style = \"text-align: left;\">Male</td><td style = \"text-align: right;\">1</td><td style = \"font-style: italic; text-align: right;\">missing</td><td style = \"text-align: right;\">4.5</td></tr><tr><td class = \"rowNumber\" style = \"font-weight: bold; text-align: right;\">2</td><td style = \"text-align: right;\">5</td><td style = \"text-align: left;\">Female</td><td style = \"text-align: right;\">3</td><td style = \"text-align: right;\">2</td><td style = \"text-align: right;\">2.9</td></tr><tr><td class = \"rowNumber\" style = \"font-weight: bold; text-align: right;\">3</td><td style = \"text-align: right;\">6</td><td style = \"text-align: left;\">Female</td><td style = \"text-align: right;\">1</td><td style = \"text-align: right;\">2</td><td style = \"text-align: right;\">3.9</td></tr><tr><td class = \"rowNumber\" style = \"font-weight: bold; text-align: right;\">4</td><td style = \"text-align: right;\">7</td><td style = \"text-align: left;\">Male</td><td style = \"text-align: right;\">4</td><td style = \"text-align: right;\">5</td><td style = \"text-align: right;\">3.5</td></tr><tr><td class = \"rowNumber\" style = \"font-weight: bold; text-align: right;\">5</td><td style = \"text-align: right;\">8</td><td style = \"text-align: left;\">Male</td><td style = \"text-align: right;\">3</td><td style = \"text-align: right;\">6</td><td style = \"text-align: right;\">5.0</td></tr></tbody></table></div>"
      ],
      "text/latex": [
       "\\begin{tabular}{r|ccccc}\n",
       "\t& Calves & Sex & Sire & Dam & WWG\\_kg\\\\\n",
       "\t\\hline\n",
       "\t& Int64 & String7 & Int64 & Int64? & Float64\\\\\n",
       "\t\\hline\n",
       "\t1 & 4 & Male & 1 & \\emph{missing} & 4.5 \\\\\n",
       "\t2 & 5 & Female & 3 & 2 & 2.9 \\\\\n",
       "\t3 & 6 & Female & 1 & 2 & 3.9 \\\\\n",
       "\t4 & 7 & Male & 4 & 5 & 3.5 \\\\\n",
       "\t5 & 8 & Male & 3 & 6 & 5.0 \\\\\n",
       "\\end{tabular}\n"
      ],
      "text/plain": [
       "\u001b[1m5×5 DataFrame\u001b[0m\n",
       "\u001b[1m Row \u001b[0m│\u001b[1m Calves \u001b[0m\u001b[1m Sex     \u001b[0m\u001b[1m Sire  \u001b[0m\u001b[1m Dam     \u001b[0m\u001b[1m WWG_kg  \u001b[0m\n",
       "     │\u001b[90m Int64  \u001b[0m\u001b[90m String7 \u001b[0m\u001b[90m Int64 \u001b[0m\u001b[90m Int64?  \u001b[0m\u001b[90m Float64 \u001b[0m\n",
       "─────┼──────────────────────────────────────────\n",
       "   1 │      4  Male         1 \u001b[90m missing \u001b[0m     4.5\n",
       "   2 │      5  Female       3        2      2.9\n",
       "   3 │      6  Female       1        2      3.9\n",
       "   4 │      7  Male         4        5      3.5\n",
       "   5 │      8  Male         3        6      5.0"
      ]
     },
     "execution_count": 39,
     "metadata": {},
     "output_type": "execute_result"
    }
   ],
   "source": [
    "using CSV, DataFrames\n",
    "\n",
    "df = CSV.read(\"mrode-3-1.csv\", \n",
    "               DataFrame, \n",
    "               header=4, \n",
    "               delim=',', \n",
    "               missingstring=\"Unknown\")"
   ]
  },
  {
   "attachments": {},
   "cell_type": "markdown",
   "metadata": {},
   "source": [
    "I want to store all ID and their Sex in a vector of named tuples.\n",
    "But I don't know how to define it."
   ]
  },
  {
   "cell_type": "code",
   "execution_count": 41,
   "metadata": {},
   "outputs": [
    {
     "data": {
      "text/plain": [
       "Vector{NamedTuple{(:ID, :Sex), Tuple{Int64, Char}}}\u001b[90m (alias for \u001b[39m\u001b[90mArray{NamedTuple{(:ID, :Sex), Tuple{Int64, Char}}, 1}\u001b[39m\u001b[90m)\u001b[39m"
      ]
     },
     "execution_count": 41,
     "metadata": {},
     "output_type": "execute_result"
    }
   ],
   "source": [
    "typeof([(ID=1, Sex='M')])"
   ]
  },
  {
   "cell_type": "code",
   "execution_count": 44,
   "metadata": {},
   "outputs": [
    {
     "data": {
      "text/plain": [
       "NamedTuple{(:ID, :Sex), Tuple{Int64, Char}}[]"
      ]
     },
     "execution_count": 44,
     "metadata": {},
     "output_type": "execute_result"
    }
   ],
   "source": [
    "ids = Vector{NamedTuple{(:ID, :Sex), Tuple{Int64, Char}}}()"
   ]
  },
  {
   "cell_type": "code",
   "execution_count": 45,
   "metadata": {},
   "outputs": [
    {
     "name": "stdout",
     "output_type": "stream",
     "text": [
      "ids = NamedTuple{(:ID, :Sex), Tuple{Int64, Char}}[(ID = 1, Sex = 'M'), (ID = 3, Sex = 'M')]\n"
     ]
    },
    {
     "data": {
      "text/plain": [
       "2-element Vector{NamedTuple{(:ID, :Sex), Tuple{Int64, Char}}}:\n",
       " (ID = 1, Sex = 'M')\n",
       " (ID = 3, Sex = 'M')"
      ]
     },
     "execution_count": 45,
     "metadata": {},
     "output_type": "execute_result"
    }
   ],
   "source": [
    "for id in setdiff(df.Sire, df.Calves)\n",
    "    ismissing(id) || push!(ids, (ID = id, Sex = 'M'))\n",
    "end\n",
    "ids"
   ]
  },
  {
   "cell_type": "code",
   "execution_count": 46,
   "metadata": {},
   "outputs": [
    {
     "name": "stdout",
     "output_type": "stream",
     "text": [
      "ids = NamedTuple{(:ID, :Sex), Tuple{Int64, Char}}[(ID = 1, Sex = 'M'), (ID = 3, Sex = 'M'), (ID = 2, Sex = 'F')]\n"
     ]
    },
    {
     "data": {
      "text/plain": [
       "3-element Vector{NamedTuple{(:ID, :Sex), Tuple{Int64, Char}}}:\n",
       " (ID = 1, Sex = 'M')\n",
       " (ID = 3, Sex = 'M')\n",
       " (ID = 2, Sex = 'F')"
      ]
     },
     "execution_count": 46,
     "metadata": {},
     "output_type": "execute_result"
    }
   ],
   "source": [
    "for id in setdiff(df.Dam, df.Calves)\n",
    "    ismissing(id) || push!(ids, (ID=id, Sex = 'F'))\n",
    "end\n",
    "ids"
   ]
  },
  {
   "cell_type": "code",
   "execution_count": 47,
   "metadata": {},
   "outputs": [
    {
     "data": {
      "text/plain": [
       "8-element Vector{NamedTuple{(:ID, :Sex), Tuple{Int64, Char}}}:\n",
       " (ID = 1, Sex = 'M')\n",
       " (ID = 3, Sex = 'M')\n",
       " (ID = 2, Sex = 'F')\n",
       " (ID = 4, Sex = 'M')\n",
       " (ID = 5, Sex = 'F')\n",
       " (ID = 6, Sex = 'F')\n",
       " (ID = 7, Sex = 'M')\n",
       " (ID = 8, Sex = 'M')"
      ]
     },
     "execution_count": 47,
     "metadata": {},
     "output_type": "execute_result"
    }
   ],
   "source": [
    "for id in eachrow(df)\n",
    "    push!(ids, (ID = id.Calves, Sex = id.Sex == \"Male\" ? 'M' : 'F'))\n",
    "end\n",
    "ids"
   ]
  },
  {
   "cell_type": "code",
   "execution_count": 48,
   "metadata": {},
   "outputs": [
    {
     "data": {
      "text/plain": [
       "8-element Vector{NamedTuple{(:ID, :Sex), Tuple{Int64, Char}}}:\n",
       " (ID = 1, Sex = 'M')\n",
       " (ID = 2, Sex = 'F')\n",
       " (ID = 3, Sex = 'M')\n",
       " (ID = 4, Sex = 'M')\n",
       " (ID = 5, Sex = 'F')\n",
       " (ID = 6, Sex = 'F')\n",
       " (ID = 7, Sex = 'M')\n",
       " (ID = 8, Sex = 'M')"
      ]
     },
     "execution_count": 48,
     "metadata": {},
     "output_type": "execute_result"
    }
   ],
   "source": [
    "sort!(ids, by = x -> x.ID)"
   ]
  },
  {
   "cell_type": "code",
   "execution_count": 49,
   "metadata": {},
   "outputs": [
    {
     "data": {
      "text/plain": [
       "8×2 Matrix{Int64}:\n",
       " 1  0\n",
       " 0  1\n",
       " 1  0\n",
       " 1  0\n",
       " 0  1\n",
       " 0  1\n",
       " 1  0\n",
       " 1  0"
      ]
     },
     "execution_count": 49,
     "metadata": {},
     "output_type": "execute_result"
    }
   ],
   "source": [
    "p = zeros(Int, length(ids), 2)\n",
    "for i in 1:length(ids)\n",
    "    j = ids[i].Sex == 'M' ? 1 : 2\n",
    "    p[i, j] = 1\n",
    "end\n",
    "p"
   ]
  }
 ],
 "metadata": {
  "kernelspec": {
   "display_name": "Julia 1.8.5",
   "language": "julia",
   "name": "julia-1.8"
  },
  "language_info": {
   "file_extension": ".jl",
   "mimetype": "application/julia",
   "name": "julia",
   "version": "1.8.5"
  },
  "orig_nbformat": 4,
  "vscode": {
   "interpreter": {
    "hash": "e7370f93d1d0cde622a1f8e1c04877d8463912d04d973331ad4851f04de6915a"
   }
  }
 },
 "nbformat": 4,
 "nbformat_minor": 2
}
