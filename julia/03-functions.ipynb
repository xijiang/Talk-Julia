{
 "cells": [
  {
   "attachments": {},
   "cell_type": "markdown",
   "metadata": {},
   "source": [
    "# Defining functions\n",
    "Some common patterns used in practice to define a function."
   ]
  },
  {
   "cell_type": "code",
   "execution_count": 1,
   "metadata": {},
   "outputs": [
    {
     "data": {
      "text/plain": [
       "4"
      ]
     },
     "execution_count": 1,
     "metadata": {},
     "output_type": "execute_result"
    }
   ],
   "source": [
    "# using `function` keyword\n",
    "function times_two(x)\n",
    "    return 2x\n",
    "end\n",
    "times_two(2)"
   ]
  },
  {
   "cell_type": "code",
   "execution_count": 2,
   "metadata": {},
   "outputs": [
    {
     "name": "stdout",
     "output_type": "stream",
     "text": [
      "compose(1, 2, a = 3, b = 4) = (1, 2, 3, 4)\n",
      "compose(1, 2, a = 3) = (1, 2, 3, 10)\n",
      "compose(1, a = 3) = (1, 10, 3, 10)\n"
     ]
    }
   ],
   "source": [
    "# positional and keyword arguments\n",
    "function compose(x, y=10; a, b=10)\n",
    "    return x, y, a, b\n",
    "end\n",
    "@show compose(1, 2, a=3, b=4)\n",
    "@show compose(1, 2, a=3)\n",
    "@show compose(1, a=3);\n",
    "#compose(1) # → ERROR: keyword argument a not assigned"
   ]
  },
  {
   "cell_type": "code",
   "execution_count": 24,
   "metadata": {},
   "outputs": [
    {
     "name": "stdout",
     "output_type": "stream",
     "text": [
      "foo(1, 2, 3, 4, 5) = (1, 2, (3, 4, 5))\n"
     ]
    },
    {
     "data": {
      "text/plain": [
       "(1, 2, (3, 4, 5))"
      ]
     },
     "execution_count": 24,
     "metadata": {},
     "output_type": "execute_result"
    }
   ],
   "source": [
    "# variable number of arguments\n",
    "foo(a, b, x...) = (a, b, x)\n",
    "@show foo(1, 2, 3, 4, 5) # "
   ]
  },
  {
   "cell_type": "code",
   "execution_count": 26,
   "metadata": {},
   "outputs": [
    {
     "data": {
      "text/plain": [
       "(1, 2, (3, 7, 8))"
      ]
     },
     "execution_count": 26,
     "metadata": {},
     "output_type": "execute_result"
    }
   ],
   "source": [
    "# splatting\n",
    "x = (1,2,3,7,8) # also works with arrays and named tuples\n",
    "foo(x...) # → (1, 2, (3, 7, 8))"
   ]
  },
  {
   "cell_type": "code",
   "execution_count": 3,
   "metadata": {},
   "outputs": [
    {
     "name": "stdout",
     "output_type": "stream",
     "text": [
      "x = [0, 0]\n",
      "x = [1, 0]\n"
     ]
    }
   ],
   "source": [
    "# pass-by-sharing\n",
    "function f!(x::Array)  # `!` means that the function mutates its argument\n",
    "    x[1] = 1\n",
    "    return x\n",
    "end\n",
    "x = [0, 0]\n",
    "@show x\n",
    "f!(x)\n",
    "@show x;"
   ]
  },
  {
   "cell_type": "code",
   "execution_count": 4,
   "metadata": {},
   "outputs": [
    {
     "data": {
      "text/plain": [
       "compose (generic function with 2 methods)"
      ]
     },
     "execution_count": 4,
     "metadata": {},
     "output_type": "execute_result"
    }
   ],
   "source": [
    "# short syntax for defining simple functions\n",
    "times_two(x) = 2x\n",
    "compose(x, y=10; a, b=10) = x, y, a, b"
   ]
  },
  {
   "cell_type": "code",
   "execution_count": 5,
   "metadata": {},
   "outputs": [
    {
     "data": {
      "text/plain": [
       "3-element Vector{Int64}:\n",
       " 2\n",
       " 4\n",
       " 6"
      ]
     },
     "execution_count": 5,
     "metadata": {},
     "output_type": "execute_result"
    }
   ],
   "source": [
    "# anonymous functions\n",
    "map(x -> 2x, [1, 2, 3])"
   ]
  },
  {
   "cell_type": "code",
   "execution_count": 6,
   "metadata": {},
   "outputs": [
    {
     "data": {
      "text/plain": [
       "14"
      ]
     },
     "execution_count": 6,
     "metadata": {},
     "output_type": "execute_result"
    }
   ],
   "source": [
    "sum(x -> x*x, [1, 2, 3])"
   ]
  },
  {
   "cell_type": "code",
   "execution_count": 7,
   "metadata": {},
   "outputs": [
    {
     "name": "stdout",
     "output_type": "stream",
     "text": [
      "processing 1\n",
      "processing 2\n",
      "processing 3\n"
     ]
    },
    {
     "data": {
      "text/plain": [
       "14"
      ]
     },
     "execution_count": 7,
     "metadata": {},
     "output_type": "execute_result"
    }
   ],
   "source": [
    "# do-block syntax\n",
    "sum([1, 2, 3]) do x\n",
    "    println(\"processing $x\")\n",
    "    x*x\n",
    "end"
   ]
  },
  {
   "cell_type": "code",
   "execution_count": 9,
   "metadata": {},
   "outputs": [],
   "source": [
    "# funciton naming conventions\n",
    "## functions that modify their arguments end with `!`"
   ]
  },
  {
   "cell_type": "code",
   "execution_count": 16,
   "metadata": {},
   "outputs": [
    {
     "data": {
      "text/plain": [
       "10×4 Matrix{Any}:\n",
       " \"a\"  1  0  0\n",
       " \"c\"  0  0  1\n",
       " \"a\"  1  0  0\n",
       " \"a\"  1  0  0\n",
       " \"b\"  0  1  0\n",
       " \"a\"  1  0  0\n",
       " \"c\"  0  0  1\n",
       " \"c\"  0  0  1\n",
       " \"b\"  0  1  0\n",
       " \"a\"  1  0  0"
      ]
     },
     "execution_count": 16,
     "metadata": {},
     "output_type": "execute_result"
    }
   ],
   "source": [
    "# A general function to construct incidence matrices given a vector\n",
    "# we can also add some docstring\n",
    "\"\"\"\n",
    "    incidence(v::Vector)\n",
    "Given a vector of categorical values in `v`, return the corresponding incidence matrix.\n",
    "\"\"\"\n",
    "function incidence(v::Vector)\n",
    "    n = length(v)\n",
    "    levels = sort(unique(v))\n",
    "    m = length(levels)\n",
    "    d = Dict(levels .=> 1:m)\n",
    "    \n",
    "    A = zeros(Int, n, m)\n",
    "    for i in 1:n\n",
    "        A[i, d[v[i]]] = 1\n",
    "    end\n",
    "    return A\n",
    "end\n",
    "\n",
    "v = rand([\"a\", \"b\", \"c\"], 10)\n",
    "[v incidence(v)]"
   ]
  },
  {
   "cell_type": "code",
   "execution_count": 17,
   "metadata": {},
   "outputs": [
    {
     "name": "stdout",
     "output_type": "stream",
     "text": [
      "search: \u001b[0m\u001b[1mi\u001b[22m\u001b[0m\u001b[1mn\u001b[22m\u001b[0m\u001b[1mc\u001b[22m\u001b[0m\u001b[1mi\u001b[22m\u001b[0m\u001b[1md\u001b[22m\u001b[0m\u001b[1me\u001b[22m\u001b[0m\u001b[1mn\u001b[22m\u001b[0m\u001b[1mc\u001b[22m\u001b[0m\u001b[1me\u001b[22m\n",
      "\n"
     ]
    },
    {
     "data": {
      "text/latex": [
       "\\begin{verbatim}\n",
       "incidence(v::Vector)\n",
       "\\end{verbatim}\n",
       "Given a vector of categorical values in \\texttt{v}, return the corresponding incidence matrix.\n",
       "\n"
      ],
      "text/markdown": [
       "```\n",
       "incidence(v::Vector)\n",
       "```\n",
       "\n",
       "Given a vector of categorical values in `v`, return the corresponding incidence matrix.\n"
      ],
      "text/plain": [
       "\u001b[36m  incidence(v::Vector)\u001b[39m\n",
       "\n",
       "  Given a vector of categorical values in \u001b[36mv\u001b[39m, return the corresponding\n",
       "  incidence matrix."
      ]
     },
     "execution_count": 17,
     "metadata": {},
     "output_type": "execute_result"
    }
   ],
   "source": [
    "?incidence"
   ]
  },
  {
   "cell_type": "code",
   "execution_count": 20,
   "metadata": {},
   "outputs": [],
   "source": [
    "#=\n",
    "# Understanding variable scope\n",
    "## avoid using (untyped) global variables\n",
    "   - compiled variables within a function must be typed to make fast native code\n",
    "   - when inferring a global untyped variable, Julia must assume it can be any type\n",
    "   - that also makes it not thread-safe\n",
    "\n",
    "## constructs that create new scopes\n",
    "   - functions, anonymous functions, do-end blocks\n",
    "   - for and while loops\n",
    "   - try-catch-end blocks\n",
    "   - comprehensions\n",
    "=#"
   ]
  },
  {
   "cell_type": "code",
   "execution_count": 21,
   "metadata": {},
   "outputs": [
    {
     "data": {
      "text/plain": [
       "2"
      ]
     },
     "execution_count": 21,
     "metadata": {},
     "output_type": "execute_result"
    }
   ],
   "source": [
    "function func_a()\n",
    "    x = 1\n",
    "    return x + 1\n",
    "end\n",
    "func_a()\n",
    "# x # → ERROR: UndefVarError: x not defined"
   ]
  },
  {
   "cell_type": "code",
   "execution_count": 25,
   "metadata": {},
   "outputs": [
    {
     "data": {
      "text/plain": [
       "1"
      ]
     },
     "metadata": {},
     "output_type": "display_data"
    }
   ],
   "source": [
    "function func_b()\n",
    "    if true # if structure does not create a new scope\n",
    "        x = 1\n",
    "    end\n",
    "    return x\n",
    "end\n",
    "func_b()"
   ]
  },
  {
   "cell_type": "code",
   "execution_count": 28,
   "metadata": {},
   "outputs": [
    {
     "name": "stdout",
     "output_type": "stream",
     "text": [
      "x = nothing\n"
     ]
    }
   ],
   "source": [
    "# the nothing value\n",
    "x = nothing\n",
    "func_b()\n",
    "@show x"
   ]
  }
 ],
 "metadata": {
  "kernelspec": {
   "display_name": "Julia 1.8.5",
   "language": "julia",
   "name": "julia-1.8"
  },
  "language_info": {
   "file_extension": ".jl",
   "mimetype": "application/julia",
   "name": "julia",
   "version": "1.8.5"
  },
  "orig_nbformat": 4,
  "vscode": {
   "interpreter": {
    "hash": "e7370f93d1d0cde622a1f8e1c04877d8463912d04d973331ad4851f04de6915a"
   }
  }
 },
 "nbformat": 4,
 "nbformat_minor": 2
}
