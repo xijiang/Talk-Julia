{
 "cells": [
  {
   "cell_type": "code",
   "execution_count": null,
   "metadata": {},
   "outputs": [],
   "source": [
    "using Genie, Genie.Renderers.Html\n",
    "import Markdown\n",
    "\n",
    "mystr = Markdown.md\"\"\"\n",
    "# Web Development\n",
    "Web development with Julia is a breeze with Genie. \n",
    "This is a quick overview of the main features.\n",
    "\n",
    "## Routing\n",
    "Genie routes are defined in the `routes.jl` file.\n",
    "The following example shows how to define a route that responds to a GET request to the `/` path.\n",
    "\n",
    "```julia\n",
    "route(\"/\") do\n",
    "    \"Hello World!\"\n",
    "end\n",
    "```\n",
    "\"\"\"\n",
    "route(\"/\") do\n",
    "    html(mystr)\n",
    "end\n",
    "\n",
    "up()"
   ]
  }
 ],
 "metadata": {
  "kernelspec": {
   "display_name": "Julia 1.8.5",
   "language": "julia",
   "name": "julia-1.8"
  },
  "language_info": {
   "name": "julia",
   "version": "3.11.1 (main, Jan  6 2023, 00:00:00) [GCC 12.2.1 20221121 (Red Hat 12.2.1-4)]"
  },
  "orig_nbformat": 4,
  "vscode": {
   "interpreter": {
    "hash": "e7370f93d1d0cde622a1f8e1c04877d8463912d04d973331ad4851f04de6915a"
   }
  }
 },
 "nbformat": 4,
 "nbformat_minor": 2
}
