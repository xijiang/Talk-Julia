{
 "cells": [
  {
   "attachments": {},
   "cell_type": "markdown",
   "metadata": {},
   "source": [
    "# Parallel calculation in Julia\n",
    "\n",
    "## A famous example\n",
    "\n",
    "Can the codes below be paralleled?\n",
    "\n",
    "```fortran\n",
    "do i = 1, 1000000\n",
    "    s = s + x[i]\n",
    "end\n",
    "```\n",
    "\n",
    "Above program is buggy in the first place, where `s` was not initialized:\n",
    "\n",
    "```fortran\n",
    "s = 0   ! OOPS\n",
    "do i = 1, 1000000\n",
    "    s = s + x[i]\n",
    "end\n",
    "```\n",
    "\n",
    "Writing program this way makes it very hard to parallelize it, even (not necessary right in language details)\n",
    "\n",
    "```fortran\n",
    "s = 0\n",
    "parallel do i = 1, 1000000\n",
    "    atom s = s + x[i]\n",
    "end\n",
    "```"
   ]
  },
  {
   "attachments": {},
   "cell_type": "markdown",
   "metadata": {},
   "source": [
    "## A few common problems in parallel programming\n",
    "\n",
    "- Too many threads\n",
    "  - Distributing overhead\n",
    "  - Physical versus virtual CPU/threads\n",
    "- Data race\n",
    "  - Thread-safe\n",
    "- Others\n",
    "  - Load balancing\n",
    "  - Dead locks"
   ]
  },
  {
   "attachments": {},
   "cell_type": "markdown",
   "metadata": {},
   "source": [
    "This example was mentioned in Guy L. Steele Jr.'s talk [How to Think about Parallel Programming: Not!](https://www.infoq.com/presentations/Thinking-Parallel-Programming/), and his Google TechTalk [Four Solutions to a Trivial Problem](https://www.youtube.com/watch?v=ftcIcn8AmSY).  Guy L. Steele Jr. believes that it should not be the programmer’s job to think about parallelism, but languages should provide ways to transparently run tasks in parallel. This requires a new approach in building languages supporting algorithms built on independence and build-and-conquer principles rather than on linear decomposition of problems.\n",
    "\n",
    "<!-- Algebraic properties needed: Associative, Cummutative, Idempotent, Identity, Zero. Thatis grouping, order, duplicates don't matter. One value or all the rest value can be ignored. -->\n",
    "\n",
    "Guy's talk inspired [several julia packages](https://juliafolds.github.io/data-parallelism/tutorials/quick-introduction/), e.g., `Folds`, `FLoops`, `Transducers`. You are encouraged to go through this short introduction. "
   ]
  },
  {
   "attachments": {},
   "cell_type": "markdown",
   "metadata": {},
   "source": [
    "## Parallel using `Distributed`, and `Threads`\n",
    "\n",
    "We use here the famous $\\pi$ estimating with Monte Carlo methods. We draw random points in sqaure defined by (0, 0), (0, 1), (1, 1), (1, 0), the proportion of points within the quarter unit circle in the first quadrant is $\\frac{\\pi}4$.\n",
    "\n",
    "The packages to be used today is as below."
   ]
  },
  {
   "cell_type": "code",
   "execution_count": null,
   "metadata": {},
   "outputs": [],
   "source": [
    "using Distributed, Folds, Plots, BenchmarkTools, LinearAlgebra # and Threads"
   ]
  },
  {
   "cell_type": "code",
   "execution_count": null,
   "metadata": {},
   "outputs": [],
   "source": [
    "# A plot demonstration\n",
    "\n",
    "circley(x) = sqrt(1 - x^2)\n",
    "plot(circley, 0, 1, leg=false, size = (400, 400))\n",
    "\n",
    "x1 = []\n",
    "y1 = []\n",
    "x2 = []\n",
    "y2 = []\n",
    "\n",
    "for _ in 1:1000\n",
    "    x = rand()\n",
    "    y = rand()\n",
    "    if x^2 + y^2 <= 1\n",
    "        push!(x1, x)\n",
    "        push!(y1, y)\n",
    "    else\n",
    "        push!(x2, x)\n",
    "        push!(y2, y)\n",
    "    end\n",
    "end\n",
    "\n",
    "scatter!(x1, y1, leg=false)\n",
    "scatter!(x2, y2, leg=false)"
   ]
  },
  {
   "cell_type": "code",
   "execution_count": null,
   "metadata": {},
   "outputs": [],
   "source": [
    "# Function\n",
    "\"\"\"\n",
    "    function mcπ(n)\n",
    "Runs a simple Monte Carlo method to estimate pi with `n` samples.\n",
    "\"\"\"\n",
    "function mcπ(n)\n",
    "    s = 0\n",
    "    for _ in 1:n\n",
    "        x, y = rand(), rand()\n",
    "        x^2 + y^2 <= 1 && (s += 1)\n",
    "        # or \n",
    "        # s += (x^2 + y^2) <= 1\n",
    "    end\n",
    "    return 4s/n\n",
    "end"
   ]
  },
  {
   "cell_type": "code",
   "execution_count": null,
   "metadata": {},
   "outputs": [],
   "source": [
    "mcπ(1000)"
   ]
  },
  {
   "attachments": {},
   "cell_type": "markdown",
   "metadata": {},
   "source": [
    "### Using `Distributed`,\n",
    "\n",
    "```julia\n",
    "julia -p 4\n",
    "nprocs() # -> 5\n",
    "nworkders() # -> 4\n",
    "addprocs(2)\n",
    "nprocs() # -> 7\n",
    "nworkders() # -> 6\n",
    "```"
   ]
  },
  {
   "cell_type": "code",
   "execution_count": null,
   "metadata": {},
   "outputs": [],
   "source": [
    "addprocs(3)"
   ]
  },
  {
   "cell_type": "code",
   "execution_count": null,
   "metadata": {},
   "outputs": [],
   "source": [
    "@btime mcπ(1_000_000_000)"
   ]
  },
  {
   "cell_type": "code",
   "execution_count": null,
   "metadata": {},
   "outputs": [],
   "source": [
    "@everywhere include(\"mcpi.jl\")"
   ]
  },
  {
   "cell_type": "code",
   "execution_count": null,
   "metadata": {},
   "outputs": [],
   "source": [
    "using Statistics\n",
    "\n",
    "parallelpi(N) = mean(pmap(n -> mcπ(n), [N/nworkers() for i in 1:nworkers()]))\n"
   ]
  },
  {
   "cell_type": "code",
   "execution_count": null,
   "metadata": {},
   "outputs": [],
   "source": [
    "@btime parallelpi(1_000_000_000)"
   ]
  },
  {
   "attachments": {},
   "cell_type": "markdown",
   "metadata": {},
   "source": [
    "### Using `Base.Threads`\n",
    "\n",
    "```julia\n",
    "JULIA_NUM_THREADS=4 julia # bash command\n",
    "\n",
    "nthreads()\n",
    "```"
   ]
  },
  {
   "cell_type": "code",
   "execution_count": null,
   "metadata": {},
   "outputs": [],
   "source": [
    "Threads.nthreads()"
   ]
  },
  {
   "cell_type": "code",
   "execution_count": null,
   "metadata": {},
   "outputs": [],
   "source": [
    "# A shared array example\n",
    "A = zeros(Threads.nthreads())\n",
    "Threads.@threads for i in 1:Threads.nthreads()\n",
    "    A[i] = Threads.threadid()\n",
    "end\n",
    "A"
   ]
  },
  {
   "cell_type": "code",
   "execution_count": null,
   "metadata": {},
   "outputs": [],
   "source": [
    "nt = Threads.nthreads()\n",
    "@btime Threads.@threads for i in 1:nt\n",
    "    A[i] = mcπ(1_000_000_000 ÷ nt)\n",
    "end"
   ]
  },
  {
   "cell_type": "code",
   "execution_count": null,
   "metadata": {},
   "outputs": [],
   "source": [
    "mean(A)"
   ]
  },
  {
   "attachments": {},
   "cell_type": "markdown",
   "metadata": {},
   "source": [
    "A "
   ]
  },
  {
   "attachments": {},
   "cell_type": "markdown",
   "metadata": {},
   "source": [
    "## Using established libs.\n",
    "\n",
    "- BLAS\n",
    "- LAPACK\n",
    "\n",
    "MKL is a commercial (free available), widely used library."
   ]
  },
  {
   "cell_type": "code",
   "execution_count": null,
   "metadata": {},
   "outputs": [],
   "source": [
    "BLAS.get_num_threads()\n",
    "BLAS.set_num_threads(1)\n",
    "n = 8000\n",
    "matA = rand(n, n)\n",
    "matB = rand(n, n)\n",
    "matC = similar(matA)\n",
    "\n",
    "@btime BLAS.gemm!('N', 'N', 1., matA, matB, 0., matC) # C = αA * B + βC\n",
    "BLAS.set_num_threads(2)\n",
    "@btime BLAS.gemm!('N', 'N', 1., matA, matB, 0., matC) # C = αA * B + βC\n",
    "\n",
    "# peakflops(n)  # to check your computer's ability."
   ]
  },
  {
   "attachments": {},
   "cell_type": "markdown",
   "metadata": {},
   "source": [
    "## What's next?\n",
    "\n",
    "- MPI?\n",
    "- GPU"
   ]
  }
 ],
 "metadata": {
  "kernelspec": {
   "display_name": "Julia 1.8.4",
   "language": "julia",
   "name": "julia-1.8"
  },
  "language_info": {
   "file_extension": ".jl",
   "mimetype": "application/julia",
   "name": "julia",
   "version": "1.8.4"
  },
  "orig_nbformat": 4
 },
 "nbformat": 4,
 "nbformat_minor": 2
}
