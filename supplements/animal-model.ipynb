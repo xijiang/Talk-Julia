{
 "cells": [
  {
   "attachments": {},
   "cell_type": "markdown",
   "metadata": {},
   "source": [
    "# Mrode 3 Example 3.1\n",
    "\n",
    "- Parameters\n",
    "    - $\\sigma_a^2 = 20$\n",
    "    - $\\sigma_e^2 = 40$\n",
    "    - $\\lambda = \\frac{\\sigma_e^2}{\\sigma_a^2} = 2$\n",
    "- Model\n",
    "    - $y_{ij} = p_i + a_i + e_{ij}$\n",
    "\n",
    "- Data (*mrode-3-1.txt*)\n",
    "\n",
    "```plaintext\n",
    "Calves,Sex,Sire,Dam,WWG(kg)\n",
    "4,Male,1,Unknown,4.5\n",
    "5,Female,3,2,2.9\n",
    "6,Female,1,2,3.9\n",
    "7,Male,4,5,3.5\n",
    "8,Male,3,6,5.0\n",
    "```\n"
   ]
  },
  {
   "cell_type": "code",
   "execution_count": 2,
   "metadata": {},
   "outputs": [],
   "source": [
    "using CSV, DataFrames"
   ]
  },
  {
   "cell_type": "code",
   "execution_count": null,
   "metadata": {},
   "outputs": [],
   "source": []
  }
 ],
 "metadata": {
  "kernelspec": {
   "display_name": "Julia 1.8.5",
   "language": "julia",
   "name": "julia-1.8"
  },
  "language_info": {
   "file_extension": ".jl",
   "mimetype": "application/julia",
   "name": "julia",
   "version": "1.8.5"
  },
  "orig_nbformat": 4,
  "vscode": {
   "interpreter": {
    "hash": "e7370f93d1d0cde622a1f8e1c04877d8463912d04d973331ad4851f04de6915a"
   }
  }
 },
 "nbformat": 4,
 "nbformat_minor": 2
}
