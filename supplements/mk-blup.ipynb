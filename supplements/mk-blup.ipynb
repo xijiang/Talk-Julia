{
 "cells": [
  {
   "attachments": {},
   "cell_type": "markdown",
   "metadata": {},
   "source": [
    "## The  Problem\n",
    "Use the SNP-data below to show equivalent results of G-BLUP (Van Radens method 1) with SNP-BLUP. Model only the random part of the MME. Assume phenotypes for 5 animals being 1, 2, 3, 4, 5 and a heritability of 0.5. Consider the following genotypes coded (0,1,2) for the 5 animals (5 rows) and 10 SNPs (10 columns): \n",
    "\n",
    "```\n",
    "2 0 2 1 1 0 2 0 0 1\n",
    "0 0 0 2 2 1 1 0 1 1\n",
    "2 2 0 1 0 0 1 2 2 2\n",
    "0 0 0 0 1 2 1 2 1 0\n",
    "0 2 1 2 1 2 0 1 1 0\n",
    "```\n",
    "<!-- pandoc -o mk-blup.pdf --pdf-engine=xelatex -V monofont='DejaVu Sans Mono' mk-blup.ipynb -->"
   ]
  },
  {
   "cell_type": "code",
   "execution_count": null,
   "metadata": {},
   "outputs": [],
   "source": [
    "# Packages and data initialization\n",
    "using LinearAlgebra, Statistics\n",
    "M = [\n",
    "     2 0 2 1 1 0 2 0 0 1\n",
    "     0 0 0 2 2 1 1 0 1 1\n",
    "     2 2 0 1 0 0 1 2 2 2\n",
    "     0 0 0 0 1 2 1 2 1 0\n",
    "     0 2 1 2 1 2 0 1 1 0\n",
    "    ]\n",
    "h² = 0.5\n",
    "y = [1, 2, 3, 4, 5]\n",
    "nid, nlc = 5, 10\n",
    "X = ones(nid);"
   ]
  },
  {
   "cell_type": "code",
   "execution_count": null,
   "metadata": {},
   "outputs": [],
   "source": [
    "# Genotype manipulations\n",
    "p = mean(M, dims = 1) # as the dimensions are `nID by nLoci`, the first dim is nID, average on them\n",
    "tpq = 2p' * (1 .- p); tpq = tpq[1]\n",
    "W = M .- 2p\n",
    "λ = (1 - h²) / h² * nlc  # also suggested tpq for nlc"
   ]
  },
  {
   "attachments": {},
   "cell_type": "markdown",
   "metadata": {},
   "source": [
    "## SNP-BLUP\n",
    "### The model\n",
    "$$\\mathbf{y} = \\mu + \\mathbf{{\\color{cyan}Wb} + e}$$\n",
    "\n",
    "where,\n",
    "\n",
    "- $\\mathbf{y}$: phenotypes, here 1:5\n",
    "- $\\mathbf{W}$: genotypes that link SNP effects to phenotypes, here is the corrected ones\n",
    "- $\\mathbf{b}$: SNP effects to be estimated\n",
    "- $\\mathbf{e}$: residual effects\n",
    "\n",
    "### The MME\n",
    "$$\\begin{bmatrix}\\mathbf{X'X} & \\mathbf{X'W}\\\\\\mathbf{W'X} & \\mathbf{W'W} + \\lambda\\mathbf{I}\\end{bmatrix}\\hat{\\mathbf{b}} = \\begin{bmatrix}\\mathbf{W'y}\\\\\\mathbf{W'y}\\end{bmatrix}$$"
   ]
  },
  {
   "cell_type": "code",
   "execution_count": null,
   "metadata": {},
   "outputs": [],
   "source": [
    "# SNP-BLUP\n",
    "lhs = [X'X X'W\n",
    "       W'X W'W + λ * I]\n",
    "\n",
    "rhs = [X'y; W'y]\n",
    "bhat = lhs \\ rhs\n",
    "gebv1 = W * bhat[2:end]"
   ]
  },
  {
   "cell_type": "code",
   "execution_count": null,
   "metadata": {},
   "outputs": [],
   "source": [
    "# how good is this\n",
    "cor(gebv1, y)"
   ]
  },
  {
   "attachments": {},
   "cell_type": "markdown",
   "metadata": {},
   "source": [
    "## GBLUP\n",
    "### The model\n",
    "$$\\mathbf{y} = \\mu + \\mathbf{Za + e}$$\n",
    "\n",
    "where:\n",
    "- $\\mathbf{Z}$: the incidence matrix for individuals with phentoypes, $\\mathbf{I}$ here.\n",
    "\n",
    "The individuals are related with GRM $\\mathbf{G}$.\n",
    "\n",
    "### The MME\n",
    "$$\\begin{bmatrix}\\mathbf{X'X} & \\mathbf{X'Z}\\\\\\mathbf{Z'X} & \\mathbf{Z'Z} + \\lambda \\mathbf{G}^{-1}\\end{bmatrix}\\hat{\\mathbf{a}}=\\begin{bmatrix}\\mathbf{X'y}\\\\\\mathbf{y}\\end{bmatrix}$$"
   ]
  },
  {
   "cell_type": "code",
   "execution_count": null,
   "metadata": {},
   "outputs": [],
   "source": [
    "Z = I(nid)\n",
    "grm = W * W' / tpq + 0.01I\n",
    "giv = inv(grm)\n",
    "λ2 = (1 - h²) / h²\n",
    "lhs = [X'X X'Z\n",
    "       Z'X Z'Z + λ*giv]\n",
    "rhs = [X'y; y]\n",
    "ahat = lhs \\ rhs\n",
    "gebv2 = ahat[2:end]"
   ]
  },
  {
   "cell_type": "code",
   "execution_count": null,
   "metadata": {},
   "outputs": [],
   "source": [
    "# how good it is\n",
    "cor(y, gebv2)"
   ]
  },
  {
   "cell_type": "code",
   "execution_count": null,
   "metadata": {},
   "outputs": [],
   "source": [
    "# apprx. equivalence\n",
    "cor(gebv1, gebv2)"
   ]
  }
 ],
 "metadata": {
  "kernelspec": {
   "display_name": "Python 3",
   "language": "python",
   "name": "python3"
  },
  "language_info": {
   "file_extension": ".jl",
   "mimetype": "application/julia",
   "name": "python",
   "version": "3.11.1 (main, Jan  6 2023, 00:00:00) [GCC 12.2.1 20221121 (Red Hat 12.2.1-4)]"
  },
  "orig_nbformat": 4,
  "vscode": {
   "interpreter": {
    "hash": "e7370f93d1d0cde622a1f8e1c04877d8463912d04d973331ad4851f04de6915a"
   }
  }
 },
 "nbformat": 4,
 "nbformat_minor": 2
}
